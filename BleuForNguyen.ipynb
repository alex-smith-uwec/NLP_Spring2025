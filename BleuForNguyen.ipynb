{
  "nbformat": 4,
  "nbformat_minor": 0,
  "metadata": {
    "colab": {
      "provenance": [],
      "authorship_tag": "ABX9TyNEi31MvxnjmwasCbyeaHH6",
      "include_colab_link": true
    },
    "kernelspec": {
      "name": "python3",
      "display_name": "Python 3"
    },
    "language_info": {
      "name": "python"
    }
  },
  "cells": [
    {
      "cell_type": "markdown",
      "metadata": {
        "id": "view-in-github",
        "colab_type": "text"
      },
      "source": [
        "<a href=\"https://colab.research.google.com/github/alex-smith-uwec/NLP_Spring2025/blob/main/BleuForNguyen.ipynb\" target=\"_parent\"><img src=\"https://colab.research.google.com/assets/colab-badge.svg\" alt=\"Open In Colab\"/></a>"
      ]
    },
    {
      "cell_type": "code",
      "execution_count": 1,
      "metadata": {
        "colab": {
          "base_uri": "https://localhost:8080/"
        },
        "id": "dvOCMyActo0G",
        "outputId": "bb2fa85c-db64-414f-9a75-8149359547c4"
      },
      "outputs": [
        {
          "output_type": "stream",
          "name": "stdout",
          "text": [
            "BLEU score: 0.3845\n"
          ]
        }
      ],
      "source": [
        "import nltk\n",
        "from nltk.translate.bleu_score import sentence_bleu, SmoothingFunction\n",
        "\n",
        "\n",
        "source=\"\"\"This is a test translation. Python is a popular programming language widely used in data science,\n",
        "artificial intelligence (AI), natural language processing (NLP), and more. Much of the content in these\n",
        "fields is presented using Jupyter Notebooks, an open-source, interactive web application that allows you\n",
        "to create and share documents containing live code, equations, visualizations, and explanatory text.\n",
        "While primarily used with Python, Jupyter Notebooks also support other programming languages.\"\"\"\n",
        "\n",
        "\n",
        "###Human translation to Vietnamese\n",
        "##(This should be done by a human, but I used Google translate since I do not speak Vietnamese)\n",
        "reference = (\n",
        "    \"Đây là bản dịch thử nghiệm. Python là ngôn ngữ lập trình phổ biến được sử dụng rộng rãi trong khoa học dữ liệu, \"\n",
        "    \"trí tuệ nhân tạo (AI), xử lý ngôn ngữ tự nhiên (NLP), v.v. Phần lớn nội dung trong các lĩnh vực này được trình bày \"\n",
        "    \"bằng Jupyter Notebooks, một ứng dụng web tương tác mã nguồn mở cho phép bạn tạo và chia sẻ tài liệu có chứa mã nguồn \"\n",
        "    \"trực tiếp, phương trình, hình ảnh trực quan và văn bản giải thích. Mặc dù chủ yếu được sử dụng với Python, \"\n",
        "    \"Jupyter Notebooks cũng hỗ trợ các ngôn ngữ lập trình khác.\"\n",
        ")\n",
        "\n",
        "\n",
        "### Machine-generated translation\n",
        "##(from Helsinki-NLP/opus-mt-en-vi)\n",
        "candidate = (\n",
        "    \"Đây là một bản dịch thử nghiệm. Python là một ngôn ngữ lập trình học phổ biến được sử dụng trong dữ liệu khoa học, \"\n",
        "    \"trí tuệ nhân tạo (AI), ngôn ngữ tự nhiên xử lý (NLP), và hơn thế nữa. Phần lớn nội dung trong các lĩnh vực này được \"\n",
        "    \"trình bày bằng cách sử dụng Jupyter Notes, một ứng dụng tương ứng với web cho phép bạn tạo ra và chia sẻ các tài liệu \"\n",
        "    \"có mã sống, và giải thích văn bản nội dung. Phần lớn nội dung được dùng với, Chương trình tương ứng viết bằng ngôn ngữ \"\n",
        "    \"KDE cũng hỗ trợ các ngôn ngữ khác.\"\n",
        ")\n",
        "\n",
        "# Tokenize (naively split by whitespace — can improve with better Vietnamese tokenizers)\n",
        "reference_tokens = reference.split()\n",
        "candidate_tokens = candidate.split()\n",
        "\n",
        "# BLEU score (using up to 4-gram precision with smoothing)\n",
        "smoothie = SmoothingFunction().method4\n",
        "score = sentence_bleu([reference_tokens], candidate_tokens, smoothing_function=smoothie)\n",
        "\n",
        "print(f\"BLEU score: {score:.4f}\")\n"
      ]
    }
  ]
}