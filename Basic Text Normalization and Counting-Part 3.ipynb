{
  "cells": [
    {
      "cell_type": "markdown",
      "metadata": {
        "id": "view-in-github",
        "colab_type": "text"
      },
      "source": [
        "<a href=\"https://colab.research.google.com/github/alex-smith-uwec/NLP_Spring2025/blob/main/Basic%20Text%20Normalization%20and%20Counting-Part%203.ipynb\" target=\"_parent\"><img src=\"https://colab.research.google.com/assets/colab-badge.svg\" alt=\"Open In Colab\"/></a>"
      ]
    },
    {
      "cell_type": "markdown",
      "id": "6113f911-bc6f-44e0-b733-79aa64f8ff14",
      "metadata": {
        "id": "6113f911-bc6f-44e0-b733-79aa64f8ff14"
      },
      "source": [
        "\n",
        "Import corpus from Project Gutenberg\n",
        "\n",
        "Bigram analysis\n"
      ]
    },
    {
      "cell_type": "markdown",
      "source": [
        "# Import a corpus from [Project Gutenberg](https://www.gutenberg.org/)"
      ],
      "metadata": {
        "id": "5zMjjp7nJP_p"
      },
      "id": "5zMjjp7nJP_p"
    },
    {
      "cell_type": "code",
      "execution_count": 1,
      "id": "be6569c9-06df-4bf4-9ad3-8cffbe60975c",
      "metadata": {
        "colab": {
          "base_uri": "https://localhost:8080/"
        },
        "id": "be6569c9-06df-4bf4-9ad3-8cffbe60975c",
        "outputId": "897defef-db85-4b1f-97f6-3816f3b73ca2"
      },
      "outputs": [
        {
          "output_type": "stream",
          "name": "stdout",
          "text": [
            "﻿The Project Gutenberg eBook of Pride and Prejudice\r\n",
            "    \r\n",
            "This ebook is for the use of anyone anywhere in the United States and\r\n",
            "most other parts of the world at no cost and with almost no restrictions\r\n",
            "whatsoever. You may copy it, give it away or re-use it under the terms\r\n",
            "of the Project Gutenberg License included with this ebook or online\r\n",
            "at www.gutenberg.org. If you are not located in the United States,\r\n",
            "you will have to check the laws of the country where you are located\r\n",
            "before using this\n"
          ]
        }
      ],
      "source": [
        "import requests\n",
        "\n",
        "# Fetch book (Plain Text UTF-8)\n",
        "url = \"https://www.gutenberg.org/cache/epub/1342/pg1342.txt\" #Jane Austen, Pride and Prejudice\n",
        "response = requests.get(url)\n",
        "text = response.text\n",
        "\n",
        "print(text[:500])\n"
      ]
    },
    {
      "cell_type": "code",
      "execution_count": 12,
      "id": "87f2d93c-31ac-46fd-b38e-aa4c918ef725",
      "metadata": {
        "colab": {
          "base_uri": "https://localhost:8080/"
        },
        "id": "87f2d93c-31ac-46fd-b38e-aa4c918ef725",
        "outputId": "3a1ad2b1-4103-47f9-c394-af121286e6a6"
      },
      "outputs": [
        {
          "output_type": "stream",
          "name": "stdout",
          "text": [
            "first words:\n",
            " Chapter I.]\r\n",
            "\r\n",
            "\r\n",
            "It is a truth universally acknowledged, that a single man in possession\r\n",
            "of a good fortune must be in want of a wife.\r\n",
            "\r\n",
            "However little known the feelings or views of such a man may be on his\r\n",
            "first entering a neighbourhood, this truth is so well fixed in the minds\r\n",
            "of the surrounding families, that he is considered as the rightful\r\n",
            "property of some one or other of their daughters.\r\n",
            "\r\n",
            "“My dear Mr. Bennet,” said his lady to him one day, “have you heard that\r\n",
            "Netherfield Park is l\n",
            "\n",
            "\n",
            "last words:\n",
            "\n",
            "\n",
            " gratitude towards the persons who, by bringing\r\n",
            "her into Derbyshire, had been the means of uniting them.\r\n",
            "\r\n",
            "                            [Illustration:\r\n",
            "\r\n",
            "                                  THE\r\n",
            "                                  END\r\n",
            "                                   ]\r\n",
            "\r\n",
            "\r\n",
            "\r\n",
            "\r\n",
            "             CHISWICK PRESS:--CHARLES WHITTINGHAM AND CO.\r\n",
            "                  TOOKS COURT, CHANCERY LANE, LONDON.\r\n",
            "\r\n",
            "\r\n",
            "\r\n",
            "\r\n",
            "\n"
          ]
        }
      ],
      "source": [
        "# Strip headers and footers\n",
        "start_index = text.find(\"Chapter I.]\")\n",
        "end_index = text.find(\"*** END OF THE PROJECT GUTENBERG EBOOK PRIDE AND PREJUDICE ***\")\n",
        "corpus = text[start_index:end_index]\n",
        "\n",
        "# Display first 500 characters\n",
        "print(f\"first words:\\n {corpus[:500]}\\n\\n\")\n",
        "\n",
        "print(f\"last words:\\n\\n\\n {corpus[-400:]}\")"
      ]
    },
    {
      "cell_type": "code",
      "source": [
        "import nltk\n",
        "import numpy as np\n",
        "from nltk.tokenize import word_tokenize, sent_tokenize\n",
        "from nltk.corpus import stopwords\n",
        "\n",
        "\n",
        "from nltk.collocations import BigramCollocationFinder\n",
        "from nltk.metrics import BigramAssocMeasures\n",
        "\n",
        "from nltk import bigrams\n",
        "from nltk.probability import ConditionalFreqDist\n",
        "\n",
        "import random\n"
      ],
      "metadata": {
        "id": "JwqbiqZO53cE"
      },
      "id": "JwqbiqZO53cE",
      "execution_count": 26,
      "outputs": []
    },
    {
      "cell_type": "code",
      "source": [
        "# Download NLTK resources\n",
        "nltk.download('punkt_tab')\n",
        "nltk.download('stopwords')"
      ],
      "metadata": {
        "id": "vuEqbGo66PhY",
        "outputId": "1b8d9eff-28b8-4636-9497-5e131e7479bc",
        "colab": {
          "base_uri": "https://localhost:8080/"
        }
      },
      "id": "vuEqbGo66PhY",
      "execution_count": 16,
      "outputs": [
        {
          "output_type": "stream",
          "name": "stderr",
          "text": [
            "[nltk_data] Downloading package punkt_tab to /root/nltk_data...\n",
            "[nltk_data]   Unzipping tokenizers/punkt_tab.zip.\n",
            "[nltk_data] Downloading package stopwords to /root/nltk_data...\n",
            "[nltk_data]   Unzipping corpora/stopwords.zip.\n"
          ]
        },
        {
          "output_type": "execute_result",
          "data": {
            "text/plain": [
              "True"
            ]
          },
          "metadata": {},
          "execution_count": 16
        }
      ]
    },
    {
      "cell_type": "code",
      "source": [
        "#Tokenize the corpus into words\n",
        "words = word_tokenize(corpus.lower())\n",
        "\n",
        "# Remove punctuation and stopwords\n",
        "stop_words = set(stopwords.words('english'))\n",
        "filtered_words = [word for word in words if word.isalnum() and word not in stop_words]\n"
      ],
      "metadata": {
        "id": "xQgIpXub6c-J"
      },
      "id": "xQgIpXub6c-J",
      "execution_count": 17,
      "outputs": []
    },
    {
      "cell_type": "code",
      "execution_count": 19,
      "id": "30566891-956e-4595-88a9-c6fe072b63e7",
      "metadata": {
        "id": "30566891-956e-4595-88a9-c6fe072b63e7"
      },
      "outputs": [],
      "source": [
        "finder = BigramCollocationFinder.from_words(filtered_words)"
      ]
    },
    {
      "cell_type": "code",
      "source": [
        "frequent_bigrams = finder.nbest(BigramAssocMeasures.raw_freq, 100)\n",
        "print(frequent_bigrams)"
      ],
      "metadata": {
        "id": "F_k96ufbysTS",
        "outputId": "99576072-dbb0-40fd-a569-ca15decf1d48",
        "colab": {
          "base_uri": "https://localhost:8080/"
        }
      },
      "id": "F_k96ufbysTS",
      "execution_count": 20,
      "outputs": [
        {
          "output_type": "stream",
          "name": "stdout",
          "text": [
            "[('lady', 'catherine'), ('miss', 'bingley'), ('miss', 'bennet'), ('said', 'elizabeth'), ('sir', 'william'), ('de', 'bourgh'), ('miss', 'darcy'), ('young', 'man'), ('1894', 'george'), ('colonel', 'fitzwilliam'), ('colonel', 'forster'), ('dare', 'say'), ('elizabeth', 'could'), ('young', 'ladies'), ('miss', 'lucas'), ('illustration', 'chapter'), ('cried', 'elizabeth'), ('said', 'bennet'), ('uncle', 'aunt'), ('great', 'deal'), ('went', 'away'), ('could', 'help'), ('miss', 'de'), ('half', 'hour'), ('next', 'morning'), ('replied', 'elizabeth'), ('thousand', 'pounds'), ('said', 'miss'), ('lady', 'lucas'), ('made', 'answer'), ('could', 'think'), ('dear', 'lizzy'), ('much', 'better'), ('soon', 'afterwards'), ('young', 'lady'), ('let', 'us'), ('whole', 'party'), ('catherine', 'de'), ('depend', 'upon'), ('elizabeth', 'felt'), ('illustration', 'elizabeth'), ('next', 'day'), ('said', 'jane'), ('two', 'three'), ('would', 'never'), ('every', 'day'), ('george', 'chapter'), ('oh', 'yes'), ('could', 'hardly'), ('jane', 'elizabeth'), ('miss', 'elizabeth'), ('oh', 'dear'), ('said', 'darcy'), ('elizabeth', 'soon'), ('never', 'heard'), ('never', 'saw'), ('nothing', 'could'), ('ten', 'thousand'), ('would', 'give'), ('dear', 'sir'), ('last', 'night'), ('lizzy', 'said'), ('many', 'years'), ('much', 'love'), ('think', 'ill'), ('william', 'lucas'), ('young', 'men'), ('young', 'woman'), ('bennet', 'could'), ('come', 'back'), ('could', 'see'), ('darcy', 'would'), ('elizabeth', 'saw'), ('gave', 'way'), ('good', 'opinion'), ('gracechurch', 'street'), ('great', 'pleasure'), ('hurst', 'miss'), ('make', 'haste'), ('miss', 'eliza'), ('mr', 'darcy'), ('much', 'possible'), ('must', 'know'), ('must', 'make'), ('nothing', 'else'), ('nothing', 'say'), ('one', 'day'), ('thousand', 'year'), ('took', 'place'), ('bingley', 'jane'), ('catherine', 'daughter'), ('charlotte', 'lucas'), ('could', 'bear'), ('could', 'say'), ('dear', 'aunt'), ('either', 'side'), ('elizabeth', 'said'), ('elizabeth', 'though'), ('elizabeth', 'would'), ('every', 'moment')]\n"
          ]
        }
      ]
    },
    {
      "cell_type": "code",
      "source": [
        "finder.apply_freq_filter(5)  # This filters out bigrams that occur less than 5 times\n",
        "statistical_bigrams = finder.nbest(BigramAssocMeasures.raw_freq, 5)  # Adjust as needed\n",
        "# also try bigram_measures.pmi, bigram_measures.chi_sq,likelihood_ratio,student_t,likelihood_ratio\n",
        "statistical_bigrams"
      ],
      "metadata": {
        "id": "nonQ0d057QZ0",
        "outputId": "019e817a-868b-4aa6-aa8d-008fb13060af",
        "colab": {
          "base_uri": "https://localhost:8080/"
        }
      },
      "id": "nonQ0d057QZ0",
      "execution_count": 21,
      "outputs": [
        {
          "output_type": "execute_result",
          "data": {
            "text/plain": [
              "[('lady', 'catherine'),\n",
              " ('miss', 'bingley'),\n",
              " ('miss', 'bennet'),\n",
              " ('said', 'elizabeth'),\n",
              " ('sir', 'william')]"
            ]
          },
          "metadata": {},
          "execution_count": 21
        }
      ]
    },
    {
      "cell_type": "code",
      "source": [
        "\n",
        "def generate_model(cfdist, word, num=15):\n",
        "    for i in range(num):\n",
        "        print(word, end=' ')\n",
        "        # Get the most frequent next words (up to 3)\n",
        "        next_words = list(cfdist[word].keys())[:3]\n",
        "        if next_words:\n",
        "            # Randomly choose from the top 3 words\n",
        "            word = random.choice(next_words)\n",
        "        else:\n",
        "            break\n",
        "\n",
        "\n",
        "# Generate bigrams from your list of words\n",
        "filtered_bigrams = bigrams(filtered_words)\n",
        "\n",
        "# Create a Conditional Frequency Distribution (CFD) from these bigrams\n",
        "cfd = ConditionalFreqDist(filtered_bigrams)\n",
        "\n",
        "# Example usage\n",
        "generate_model(cfd, 'sir')  # Replace 'your_seed_word' with your desired starting word\n"
      ],
      "metadata": {
        "id": "yAeBQeEe7jM2",
        "outputId": "6a5f6b20-64a3-4fd8-e9d7-45143ae6eca6",
        "colab": {
          "base_uri": "https://localhost:8080/"
        }
      },
      "id": "yAeBQeEe7jM2",
      "execution_count": 28,
      "outputs": [
        {
          "output_type": "stream",
          "name": "stdout",
          "text": [
            "sir advantage friend introduce bingley glad find depend serving bennet replied wife tiresome always giving "
          ]
        }
      ]
    },
    {
      "cell_type": "code",
      "source": [],
      "metadata": {
        "id": "nF26DBH0737O"
      },
      "id": "nF26DBH0737O",
      "execution_count": null,
      "outputs": []
    }
  ],
  "metadata": {
    "kernelspec": {
      "display_name": "Python 3 (ipykernel)",
      "language": "python",
      "name": "python3"
    },
    "language_info": {
      "codemirror_mode": {
        "name": "ipython",
        "version": 3
      },
      "file_extension": ".py",
      "mimetype": "text/x-python",
      "name": "python",
      "nbconvert_exporter": "python",
      "pygments_lexer": "ipython3",
      "version": "3.11.8"
    },
    "colab": {
      "provenance": [],
      "include_colab_link": true
    }
  },
  "nbformat": 4,
  "nbformat_minor": 5
}