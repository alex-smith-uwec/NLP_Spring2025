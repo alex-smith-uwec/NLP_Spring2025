{
  "nbformat": 4,
  "nbformat_minor": 0,
  "metadata": {
    "colab": {
      "provenance": [],
      "mount_file_id": "1x9TTgiGimlHTknx5KPqg_j325n75CTHm",
      "authorship_tag": "ABX9TyN+WSsIfl8DcC9hCZ9SD1VG",
      "include_colab_link": true
    },
    "kernelspec": {
      "name": "python3",
      "display_name": "Python 3"
    },
    "language_info": {
      "name": "python"
    }
  },
  "cells": [
    {
      "cell_type": "markdown",
      "metadata": {
        "id": "view-in-github",
        "colab_type": "text"
      },
      "source": [
        "<a href=\"https://colab.research.google.com/github/alex-smith-uwec/NLP_Spring2025/blob/main/StateUnion.ipynb\" target=\"_parent\"><img src=\"https://colab.research.google.com/assets/colab-badge.svg\" alt=\"Open In Colab\"/></a>"
      ]
    },
    {
      "cell_type": "code",
      "source": [
        "!pip install datasets -q"
      ],
      "metadata": {
        "id": "63VOA0mzYDfy",
        "outputId": "922e749d-6247-4d14-c174-3d8920e71a7e",
        "colab": {
          "base_uri": "https://localhost:8080/"
        }
      },
      "execution_count": 2,
      "outputs": [
        {
          "output_type": "stream",
          "name": "stdout",
          "text": [
            "\u001b[?25l   \u001b[90m━━━━━━━━━━━━━━━━━━━━━━━━━━━━━━━━━━━━━━━━\u001b[0m \u001b[32m0.0/480.6 kB\u001b[0m \u001b[31m?\u001b[0m eta \u001b[36m-:--:--\u001b[0m\r\u001b[2K   \u001b[91m━━━━━━━━━━━━━━━━━━━━━━━━━━━━━━━━━━━━━━━\u001b[0m\u001b[90m╺\u001b[0m \u001b[32m471.0/480.6 kB\u001b[0m \u001b[31m35.7 MB/s\u001b[0m eta \u001b[36m0:00:01\u001b[0m\r\u001b[2K   \u001b[90m━━━━━━━━━━━━━━━━━━━━━━━━━━━━━━━━━━━━━━━━\u001b[0m \u001b[32m480.6/480.6 kB\u001b[0m \u001b[31m11.0 MB/s\u001b[0m eta \u001b[36m0:00:00\u001b[0m\n",
            "\u001b[2K   \u001b[90m━━━━━━━━━━━━━━━━━━━━━━━━━━━━━━━━━━━━━━━━\u001b[0m \u001b[32m116.3/116.3 kB\u001b[0m \u001b[31m6.5 MB/s\u001b[0m eta \u001b[36m0:00:00\u001b[0m\n",
            "\u001b[2K   \u001b[90m━━━━━━━━━━━━━━━━━━━━━━━━━━━━━━━━━━━━━━━━\u001b[0m \u001b[32m179.3/179.3 kB\u001b[0m \u001b[31m4.9 MB/s\u001b[0m eta \u001b[36m0:00:00\u001b[0m\n",
            "\u001b[2K   \u001b[90m━━━━━━━━━━━━━━━━━━━━━━━━━━━━━━━━━━━━━━━━\u001b[0m \u001b[32m134.8/134.8 kB\u001b[0m \u001b[31m4.9 MB/s\u001b[0m eta \u001b[36m0:00:00\u001b[0m\n",
            "\u001b[2K   \u001b[90m━━━━━━━━━━━━━━━━━━━━━━━━━━━━━━━━━━━━━━━━\u001b[0m \u001b[32m194.1/194.1 kB\u001b[0m \u001b[31m6.8 MB/s\u001b[0m eta \u001b[36m0:00:00\u001b[0m\n",
            "\u001b[?25h\u001b[31mERROR: pip's dependency resolver does not currently take into account all the packages that are installed. This behaviour is the source of the following dependency conflicts.\n",
            "gcsfs 2024.10.0 requires fsspec==2024.10.0, but you have fsspec 2024.9.0 which is incompatible.\u001b[0m\u001b[31m\n",
            "\u001b[0m"
          ]
        }
      ]
    },
    {
      "cell_type": "code",
      "execution_count": 3,
      "metadata": {
        "id": "lh7s_oa4XnAM"
      },
      "outputs": [],
      "source": [
        "import matplotlib.pyplot as plt\n",
        "import numpy as np\n",
        "import pandas as pd\n",
        "from datasets import load_dataset\n",
        "from collections import Counter\n",
        "\n",
        "from datetime import datetime, timedelta\n",
        "\n",
        "import nltk\n",
        "from nltk.draw.dispersion import dispersion_plot"
      ]
    },
    {
      "cell_type": "code",
      "source": [
        "# Load the dataset\n",
        "dataset = load_dataset(\"jsulz/state-of-the-union-addresses\")\n",
        "\n",
        "# Extract the necessary columns\n",
        "dates = [item[\"date\"] for item in dataset[\"train\"]]\n",
        "potus=[item[\"potus\"] for item in dataset[\"train\"]]\n",
        "texts = [item[\"lemmatized\"] for item in dataset[\"train\"]]\n",
        "\n",
        "# Combine dates, potus texts, then sort by dates\n",
        "sorted_data = sorted(zip(dates, potus, texts), key=lambda x: x[0])\n",
        "sorted_dates, sorted_potus,sorted_texts = zip(*sorted_data)\n",
        "\n",
        "\n"
      ],
      "metadata": {
        "id": "PJo5iNECX1L2"
      },
      "execution_count": 5,
      "outputs": []
    },
    {
      "cell_type": "code",
      "source": [
        "sorted_dates[0:8]"
      ],
      "metadata": {
        "id": "zoCHN6gIOg9V",
        "outputId": "f174d16b-586d-4c90-b1d8-cea697b3eeea",
        "colab": {
          "base_uri": "https://localhost:8080/"
        }
      },
      "execution_count": 10,
      "outputs": [
        {
          "output_type": "execute_result",
          "data": {
            "text/plain": [
              "(Timestamp('1790-01-08 00:00:00'),\n",
              " Timestamp('1790-12-08 00:00:00'),\n",
              " Timestamp('1791-10-25 00:00:00'),\n",
              " Timestamp('1792-11-06 00:00:00'),\n",
              " Timestamp('1793-12-03 00:00:00'),\n",
              " Timestamp('1794-11-19 00:00:00'),\n",
              " Timestamp('1795-12-08 00:00:00'),\n",
              " Timestamp('1796-12-07 00:00:00'))"
            ]
          },
          "metadata": {},
          "execution_count": 10
        }
      ]
    },
    {
      "cell_type": "code",
      "source": [
        "\n",
        "# Initial date for grouping\n",
        "start_date = pd.Timestamp('1790-01-08')\n",
        "\n",
        "# Partition sorted_data into 5-year blocks\n",
        "blocks = []\n",
        "current_block = []\n",
        "current_start = start_date\n",
        "current_end = start_date + pd.DateOffset(years=5)\n",
        "\n",
        "for date, potus, text in zip(sorted_dates, sorted_potus, sorted_texts):\n",
        "    if date < current_end:\n",
        "        current_block.append((date, potus, text))\n",
        "    else:\n",
        "        blocks.append(current_block)\n",
        "        current_block = [(date, potus, text)]\n",
        "        current_start = current_end\n",
        "        current_end += pd.DateOffset(years=5)\n",
        "\n",
        "# Add the last block if it's not empty\n",
        "if current_block:\n",
        "    blocks.append(current_block)\n",
        "\n",
        "\n",
        "# Print the blocks with truncated text\n",
        "print(f\"Number of blocks: {len(blocks)}\")\n",
        "for i, block in enumerate(blocks[:2]):  # Display the first 2 blocks for verification\n",
        "    print(f\"\\nBlock {i + 1}:\")\n",
        "    for entry in block:\n",
        "        date, potus, text = entry\n",
        "        print(f\"  Date: {date}, POTUS: {potus}, Text (truncated): {text[:5]}...\")\n"
      ],
      "metadata": {
        "id": "S9dlAQmGRuce",
        "outputId": "de5f57e8-f408-4ce1-aa36-01caf822b67b",
        "colab": {
          "base_uri": "https://localhost:8080/"
        }
      },
      "execution_count": 26,
      "outputs": [
        {
          "output_type": "stream",
          "name": "stdout",
          "text": [
            "Number of blocks: 47\n",
            "\n",
            "Block 1:\n",
            "  Date: 1790-01-08 00:00:00, POTUS: George Washington, Text (truncated): ['embrace', 'great', 'satisfaction', 'opportunity', 'present']...\n",
            "  Date: 1790-12-08 00:00:00, POTUS: George Washington, Text (truncated): ['meet', 'feel', 'much', 'satisfaction', 'able']...\n",
            "  Date: 1791-10-25 00:00:00, POTUS: George Washington, Text (truncated): ['meet', 'upon', 'present', 'occasion', 'feeling']...\n",
            "  Date: 1792-11-06 00:00:00, POTUS: George Washington, Text (truncated): ['abatement', 'satisfaction', 'meet', 'present', 'occasion']...\n",
            "  Date: 1793-12-03 00:00:00, POTUS: George Washington, Text (truncated): ['since', 'commencement', 'term', 'call', 'office']...\n",
            "  Date: 1794-11-19 00:00:00, POTUS: George Washington, Text (truncated): ['call', 'mind', 'gracious', 'indulgence', 'heaven']...\n",
            "\n",
            "Block 2:\n",
            "  Date: 1795-12-08 00:00:00, POTUS: George Washington, Text (truncated): ['trust', 'deceive', 'indulge', 'persuasion', 'never']...\n",
            "  Date: 1796-12-07 00:00:00, POTUS: George Washington, Text (truncated): ['recur', 'internal', 'situation', 'country', 'since']...\n",
            "  Date: 1797-11-22 00:00:00, POTUS: John Adams, Text (truncated): ['time', 'apprehensive', 'would', 'necessary', 'account']...\n",
            "  Date: 1798-12-08 00:00:00, POTUS: John Adams, Text (truncated): ['reverence', 'resignation', 'contemplate', 'dispensation', 'divine']...\n",
            "  Date: 1799-12-03 00:00:00, POTUS: John Adams, Text (truncated): ['peculiar', 'satisfaction', 'meet', '6th', 'congress']...\n"
          ]
        }
      ]
    },
    {
      "cell_type": "code",
      "source": [
        "print(f\"Number of blocks: {len(blocks)}\")\n"
      ],
      "metadata": {
        "id": "rScKIp2iR9YF",
        "outputId": "af0f06da-99e9-4e7d-e17a-4590201c2f2c",
        "colab": {
          "base_uri": "https://localhost:8080/"
        }
      },
      "execution_count": 22,
      "outputs": [
        {
          "output_type": "stream",
          "name": "stdout",
          "text": [
            "Number of blocks: 47\n"
          ]
        }
      ]
    },
    {
      "cell_type": "code",
      "source": [
        "\n",
        "# Create a new structure for blocks\n",
        "processed_blocks = []\n",
        "\n",
        "for block in blocks:\n",
        "    # Extract the year from the first entry's date\n",
        "    block_year = block[0][0].year\n",
        "    # Merge all text fields into a single list\n",
        "    merged_text = [word for entry in block for word in entry[2]]  # Flatten all text lists into one list\n",
        "    # Add to the processed blocks list\n",
        "    processed_blocks.append({\"year\": block_year, \"texts\": merged_text})\n",
        "\n",
        "# Print the first 2 processed blocks for verification\n",
        "for i, block in enumerate(processed_blocks[:2]):\n",
        "    print(f\"Block {i + 1} - Year: {block['year']}, Merged Text Length: {len(block['texts'])}\")\n",
        "    print(f\"Sample Texts (truncated): {' '.join(block['texts'][:50])}...\")  # Join and truncate for readability\n"
      ],
      "metadata": {
        "id": "S__EAs1BU0Fm",
        "outputId": "ab6228f1-53f6-4d1e-d530-0f89a2cee326",
        "colab": {
          "base_uri": "https://localhost:8080/"
        }
      },
      "execution_count": 28,
      "outputs": [
        {
          "output_type": "stream",
          "name": "stdout",
          "text": [
            "Block 1 - Year: 1790, Merged Text Length: 5227\n",
            "Sample Texts (truncated): embrace great satisfaction opportunity present congratulate present favorable prospect public affair recent accession important state north carolina constitution unite state official information receive rise credit respectability country general increase good toward government union concord peace plenty bless circumstance auspicious eminent degree national prosperity resume consultation general good derive encouragement reflection...\n",
            "Block 2 - Year: 1795, Merged Text Length: 4945\n",
            "Sample Texts (truncated): trust deceive indulge persuasion never meet period present situation public affair afford mutual congratulation invite join profound gratitude author good numerous extraordinary blessing enjoy termination long expensive distress war engage certain indian northwest ohio place option united state treaty commander army conclude provisionally hostile tribe region adjustment term satisfaction indian...\n"
          ]
        }
      ]
    },
    {
      "cell_type": "code",
      "source": [
        "# Find the maximum length of merged_text fields\n",
        "max_length = max(len(block['texts']) for block in processed_blocks)\n",
        "\n",
        "# Pad each merged_text field with \"<OOV>\" tokens\n",
        "for block in processed_blocks:\n",
        "    current_length = len(block['texts'])\n",
        "    if current_length < max_length:\n",
        "        block['texts'].extend([\"<OOV>\"] * (max_length - current_length))\n",
        "\n",
        "# Verify padding\n",
        "for i, block in enumerate(processed_blocks[:2]):  # Display first 2 blocks for verification\n",
        "    print(f\"Block {i + 1} - Year: {block['year']}, Text Length: {len(block['texts'])}\")\n",
        "    print(f\"Sample Texts (truncated): {' '.join(block['texts'][:5])}...\")\n",
        "    print(f\"Last Tokens: {' '.join(block['texts'][-10:])}\")  # Show last 10 tokens to verify padding\n"
      ],
      "metadata": {
        "id": "5cc4nO2pWtTu",
        "outputId": "f0fc290d-cf8d-4e6b-f526-5f18d3ddfee4",
        "colab": {
          "base_uri": "https://localhost:8080/"
        }
      },
      "execution_count": 31,
      "outputs": [
        {
          "output_type": "stream",
          "name": "stdout",
          "text": [
            "Block 1 - Year: 1790, Text Length: 52162\n",
            "Sample Texts (truncated): embrace great satisfaction opportunity present...\n",
            "Last Tokens: <OOV> <OOV> <OOV> <OOV> <OOV> <OOV> <OOV> <OOV> <OOV> <OOV>\n",
            "Block 2 - Year: 1795, Text Length: 52162\n",
            "Sample Texts (truncated): trust deceive indulge persuasion never...\n",
            "Last Tokens: <OOV> <OOV> <OOV> <OOV> <OOV> <OOV> <OOV> <OOV> <OOV> <OOV>\n"
          ]
        }
      ]
    },
    {
      "cell_type": "code",
      "source": [
        "# Combine all the text into one list\n",
        "all_words = [word for block in processed_blocks for word in block['texts']]"
      ],
      "metadata": {
        "id": "BqpDmyosYaCu"
      },
      "execution_count": 32,
      "outputs": []
    },
    {
      "cell_type": "code",
      "source": [
        "# Define focus words\n",
        "focus_words=[\"liberty\",\"war\", \"peace\",\"waste\",\"fraud\",\"God\",\"woman\",\"slave\",\"poverty\",\"education\",\"science\",\"technology\",\"computer\",\"intelligence\"]"
      ],
      "metadata": {
        "id": "yiyCP5u5YcTL"
      },
      "execution_count": 51,
      "outputs": []
    },
    {
      "cell_type": "code",
      "source": [
        "\n",
        "\n",
        "# Generate x-labels for years corresponding to the blocks\n",
        "years = [block['year'] for block in processed_blocks]\n",
        "x_ticks_positions = [len(block['texts']) * idx for idx, block in enumerate(processed_blocks)]\n",
        "\n",
        "# Select  years for x-tick labels thinning\n",
        "thin=4\n",
        "x_ticks_positions_filtered = x_ticks_positions[::thin]\n",
        "x_labels_filtered = years[::thin]\n",
        "\n",
        "# Dispersion plot with nltk\n",
        "plt.figure(figsize=(12, 9))\n",
        "dispersion_plot(all_words, focus_words, ignore_case=True, title=\"Lexical Dispersion Plot for Focus Words\")\n",
        "plt.xticks(ticks=x_ticks_positions_filtered, labels=x_labels_filtered, rotation=45)\n",
        "plt.xlabel(\"Years\")\n",
        "plt.ylabel(\"Focus Words\")\n",
        "plt.show()\n",
        "\n",
        "\n"
      ],
      "metadata": {
        "collapsed": true,
        "id": "jYicPAoOYTld",
        "colab": {
          "base_uri": "https://localhost:8080/",
          "height": 510
        },
        "outputId": "1491484a-3a55-4868-a36f-bd57d2107a37"
      },
      "execution_count": 52,
      "outputs": [
        {
          "output_type": "display_data",
          "data": {
            "text/plain": [
              "<Figure size 1200x900 with 0 Axes>"
            ]
          },
          "metadata": {}
        },
        {
          "output_type": "display_data",
          "data": {
            "text/plain": [
              "<Figure size 640x480 with 1 Axes>"
            ],
            "image/png": "[encoded data removed]"
          },
          "metadata": {}
        }
      ]
    },
    {
      "cell_type": "code",
      "source": [
        "all_words[0:10]"
      ],
      "metadata": {
        "colab": {
          "base_uri": "https://localhost:8080/"
        },
        "id": "kEOBcvfGbEK6",
        "outputId": "0f543df0-15e2-44c1-d125-c5ca4e29478a"
      },
      "execution_count": 53,
      "outputs": [
        {
          "output_type": "execute_result",
          "data": {
            "text/plain": [
              "['embrace',\n",
              " 'great',\n",
              " 'satisfaction',\n",
              " 'opportunity',\n",
              " 'present',\n",
              " 'congratulate',\n",
              " 'present',\n",
              " 'favorable',\n",
              " 'prospect',\n",
              " 'public']"
            ]
          },
          "metadata": {},
          "execution_count": 53
        }
      ]
    },
    {
      "cell_type": "code",
      "source": [
        "# Get the most common words\n",
        "word_counts = Counter(all_words)\n",
        "\n",
        "most_common_words = [word for word, freq in word_counts.most_common(10)]  # Adjust '10' for desired number\n",
        "\n",
        "# Print the most common words\n",
        "print(\"Most Common Words:\", most_common_words)\n",
        "\n",
        "\n"
      ],
      "metadata": {
        "colab": {
          "base_uri": "https://localhost:8080/"
        },
        "collapsed": true,
        "id": "NxlChMreX1Pl",
        "outputId": "139bd2fd-cf87-4fb3-9b1f-32f290c6157f"
      },
      "execution_count": 55,
      "outputs": [
        {
          "output_type": "stream",
          "name": "stdout",
          "text": [
            "Most Common Words: ['<OOV>', 'state', 'government', 'year', 'make', 'congress', 'country', 'people', 'great', 'would']\n"
          ]
        }
      ]
    },
    {
      "cell_type": "code",
      "source": [],
      "metadata": {
        "id": "4qutYe9ZD-dq"
      },
      "execution_count": null,
      "outputs": []
    }
  ]
}