{
  "nbformat": 4,
  "nbformat_minor": 0,
  "metadata": {
    "colab": {
      "provenance": [],
      "mount_file_id": "1x9TTgiGimlHTknx5KPqg_j325n75CTHm",
      "authorship_tag": "ABX9TyP50f6/HStFmSQFlNuOQX7A",
      "include_colab_link": true
    },
    "kernelspec": {
      "name": "python3",
      "display_name": "Python 3"
    },
    "language_info": {
      "name": "python"
    }
  },
  "cells": [
    {
      "cell_type": "markdown",
      "metadata": {
        "id": "view-in-github",
        "colab_type": "text"
      },
      "source": [
        "<a href=\"https://colab.research.google.com/github/alex-smith-uwec/NLP_Spring2025/blob/main/StateUnion.ipynb\" target=\"_parent\"><img src=\"https://colab.research.google.com/assets/colab-badge.svg\" alt=\"Open In Colab\"/></a>"
      ]
    },
    {
      "cell_type": "code",
      "source": [
        "!pip install datasets -q"
      ],
      "metadata": {
        "id": "63VOA0mzYDfy"
      },
      "execution_count": 29,
      "outputs": []
    },
    {
      "cell_type": "code",
      "execution_count": 32,
      "metadata": {
        "id": "lh7s_oa4XnAM"
      },
      "outputs": [],
      "source": [
        "import matplotlib.pyplot as plt\n",
        "import numpy as np\n",
        "import pandas as pd\n",
        "from datasets import load_dataset\n",
        "from collections import Counter\n",
        "\n",
        "import nltk\n",
        "from nltk.draw.dispersion import dispersion_plot"
      ]
    },
    {
      "cell_type": "code",
      "source": [
        "# Load the dataset\n",
        "dataset = load_dataset(\"jsulz/state-of-the-union-addresses\")\n",
        "\n",
        "# Extract the necessary columns\n",
        "dates = [item[\"date\"] for item in dataset[\"train\"]]\n",
        "texts = [item[\"lemmatized\"] for item in dataset[\"train\"]]\n",
        "\n",
        "# Combine dates and texts, then sort by dates\n",
        "sorted_data = sorted(zip(dates, texts), key=lambda x: x[0])\n",
        "sorted_dates, sorted_texts = zip(*sorted_data)\n",
        "\n",
        "# Convert back to lists if needed\n",
        "sorted_dates = list(sorted_dates)\n",
        "\n",
        "# Replace dates with just the year\n",
        "sorted_years = [date.year for date in sorted_dates]\n",
        "sorted_texts = list(sorted_texts)\n",
        "\n"
      ],
      "metadata": {
        "id": "PJo5iNECX1L2"
      },
      "execution_count": 31,
      "outputs": []
    },
    {
      "cell_type": "code",
      "source": [
        "print(f\"{sorted_years[2]}\")\n",
        "len(sorted_texts[2])"
      ],
      "metadata": {
        "id": "Y8nkW4ajFWW_",
        "outputId": "79f6352e-886a-417e-c4ba-8340f6e8cd80",
        "colab": {
          "base_uri": "https://localhost:8080/"
        }
      },
      "execution_count": 28,
      "outputs": [
        {
          "output_type": "stream",
          "name": "stdout",
          "text": [
            "1791\n"
          ]
        },
        {
          "output_type": "execute_result",
          "data": {
            "text/plain": [
              "956"
            ]
          },
          "metadata": {},
          "execution_count": 28
        }
      ]
    },
    {
      "cell_type": "code",
      "source": [
        "# Verify the sorting\n",
        "print(sorted_dates[-2:])"
      ],
      "metadata": {
        "colab": {
          "base_uri": "https://localhost:8080/"
        },
        "id": "oRBIYDReoVE9",
        "outputId": "8d4ff260-efde-41ba-8602-8bab3b52d94b"
      },
      "execution_count": 5,
      "outputs": [
        {
          "output_type": "stream",
          "name": "stdout",
          "text": [
            "[Timestamp('2023-02-07 00:00:00'), Timestamp('2024-03-07 00:00:00')]\n"
          ]
        }
      ]
    },
    {
      "cell_type": "code",
      "source": [
        "# Tokenize all texts and count word frequencies\n",
        "all_words = []\n",
        "for text in sorted_texts:\n",
        "    # text is a list of words, so we can directly extend all_words\n",
        "    all_words.extend(text)\n",
        "word_counts = Counter(all_words)"
      ],
      "metadata": {
        "collapsed": true,
        "id": "jYicPAoOYTld"
      },
      "execution_count": 6,
      "outputs": []
    },
    {
      "cell_type": "code",
      "source": [
        "all_words[0:10]"
      ],
      "metadata": {
        "colab": {
          "base_uri": "https://localhost:8080/"
        },
        "id": "kEOBcvfGbEK6",
        "outputId": "e8dcbe80-18ab-4c7f-bcf6-d8810e96f69d"
      },
      "execution_count": 7,
      "outputs": [
        {
          "output_type": "execute_result",
          "data": {
            "text/plain": [
              "['embrace',\n",
              " 'great',\n",
              " 'satisfaction',\n",
              " 'opportunity',\n",
              " 'present',\n",
              " 'congratulate',\n",
              " 'present',\n",
              " 'favorable',\n",
              " 'prospect',\n",
              " 'public']"
            ]
          },
          "metadata": {},
          "execution_count": 7
        }
      ]
    },
    {
      "cell_type": "code",
      "source": [
        "# Get the most common words (excluding stopwords, if desired)\n",
        "most_common_words = [word for word, freq in word_counts.most_common(10)]  # Adjust '10' for desired number\n",
        "\n",
        "# Print the most common words\n",
        "print(\"Most Common Words:\", most_common_words)\n",
        "\n",
        "# Prepare data for the lexical dispersion plot\n",
        "word_occurrences = {word: [] for word in most_common_words}\n",
        "\n",
        "for i, text in enumerate(texts):\n",
        "    # text is already a list of tokens, no need to split\n",
        "    tokens = text\n",
        "    for word in most_common_words:\n",
        "        word_occurrences[word].append(tokens.index(word) if word in tokens else None)\n",
        "\n"
      ],
      "metadata": {
        "colab": {
          "base_uri": "https://localhost:8080/"
        },
        "collapsed": true,
        "id": "NxlChMreX1Pl",
        "outputId": "554c3b43-cb69-4eb5-9081-65c57d8d4a82"
      },
      "execution_count": 8,
      "outputs": [
        {
          "output_type": "stream",
          "name": "stdout",
          "text": [
            "Most Common Words: ['state', 'government', 'year', 'make', 'congress', 'country', 'people', 'great', 'would', 'united']\n"
          ]
        }
      ]
    },
    {
      "cell_type": "code",
      "source": [],
      "metadata": {
        "id": "4qutYe9ZD-dq"
      },
      "execution_count": null,
      "outputs": []
    },
    {
      "cell_type": "code",
      "source": [
        "focus_words=[\"science\",\"war\",\"waste\",\"technology\",\"god\",\"fraud\",\"woman\",\"slave\"]"
      ],
      "metadata": {
        "id": "2RN6F-mbcgqz"
      },
      "execution_count": 13,
      "outputs": []
    },
    {
      "cell_type": "code",
      "source": [
        "plt.figure(figsize=(12, 9))\n",
        "dispersion_plot(all_words, focus_words, ignore_case=True, title='Lexical Dispersion Plot for focus words')\n",
        "plt.show()"
      ],
      "metadata": {
        "colab": {
          "base_uri": "https://localhost:8080/",
          "height": 489
        },
        "id": "Cpen7cIJbu99",
        "outputId": "d860b8d7-d09f-443d-f251-37a011fa2221"
      },
      "execution_count": 15,
      "outputs": [
        {
          "output_type": "display_data",
          "data": {
            "text/plain": [
              "<Figure size 1200x900 with 0 Axes>"
            ]
          },
          "metadata": {}
        },
        {
          "output_type": "display_data",
          "data": {
            "text/plain": [
              "<Figure size 640x480 with 1 Axes>"
            ],
            "image/png": "[encoded data removed]"
          },
          "metadata": {}
        }
      ]
    },
    {
      "cell_type": "code",
      "source": [
        "\n",
        "\n",
        "# Compute the lengths of each text\n",
        "text_lengths = [len(text) for text in sorted_texts]\n",
        "\n",
        "# Compute cumulative offsets\n",
        "cumulative_offsets = np.cumsum([0] + text_lengths[:-1])  # Start at 0 for the first year\n",
        "\n",
        "# Determine indices for approximately 25 evenly spaced ticks\n",
        "num_ticks = 10\n",
        "indices = np.linspace(0, len(cumulative_offsets) - 1, num=num_ticks, dtype=int)\n",
        "\n",
        "# Subset offsets and years for tick marks\n",
        "selected_offsets = cumulative_offsets[indices]\n",
        "selected_years = [sorted_years[i] for i in indices]\n",
        "\n",
        "# Plot with updated axis\n",
        "plt.figure(figsize=(12, 9))\n",
        "dispersion_plot(all_words, focus_words, ignore_case=True, title='Lexical Dispersion Plot for Focus Words')\n",
        "\n",
        "# Set the horizontal axis\n",
        "plt.xticks(selected_offsets, selected_years, rotation=45)\n",
        "plt.xlabel(\"Year\")\n",
        "plt.show()\n"
      ],
      "metadata": {
        "id": "UsdOTNXacppy",
        "outputId": "367cf63c-9c4d-4e6a-f5f0-e51ad6a1ce86",
        "colab": {
          "base_uri": "https://localhost:8080/",
          "height": 510
        }
      },
      "execution_count": 39,
      "outputs": [
        {
          "output_type": "display_data",
          "data": {
            "text/plain": [
              "<Figure size 1200x900 with 0 Axes>"
            ]
          },
          "metadata": {}
        },
        {
          "output_type": "display_data",
          "data": {
            "text/plain": [
              "<Figure size 640x480 with 1 Axes>"
            ],
            "image/png": "[encoded data removed]"
          },
          "metadata": {}
        }
      ]
    },
    {
      "cell_type": "code",
      "source": [
        "text_lengths"
      ],
      "metadata": {
        "id": "5h6PwcBkJDzb",
        "outputId": "0a688a73-2299-48ff-8d7b-532545ee3c8b",
        "colab": {
          "base_uri": "https://localhost:8080/"
        }
      },
      "execution_count": 36,
      "outputs": [
        {
          "output_type": "execute_result",
          "data": {
            "text/plain": [
              "[487,\n",
              " 617,\n",
              " 956,\n",
              " 954,\n",
              " 885,\n",
              " 1328,\n",
              " 923,\n",
              " 1346,\n",
              " 967,\n",
              " 1020,\n",
              " 689,\n",
              " 624,\n",
              " 1493,\n",
              " 978,\n",
              " 993,\n",
              " 944,\n",
              " 1339,\n",
              " 1336,\n",
              " 1123,\n",
              " 1220,\n",
              " 810,\n",
              " 1141,\n",
              " 1069,\n",
              " 1467,\n",
              " 1501,\n",
              " 1004,\n",
              " 1494,\n",
              " 1547,\n",
              " 1998,\n",
              " 1988,\n",
              " 2068,\n",
              " 1569,\n",
              " 2577,\n",
              " 1936,\n",
              " 2829,\n",
              " 3670,\n",
              " 4076,\n",
              " 3461,\n",
              " 2974,\n",
              " 3337,\n",
              " 4849,\n",
              " 6956,\n",
              " 3267,\n",
              " 3561,\n",
              " 3598,\n",
              " 5972,\n",
              " 7109,\n",
              " 5601,\n",
              " 5344,\n",
              " 5367,\n",
              " 6212,\n",
              " 4247,\n",
              " 3795,\n",
              " 3955,\n",
              " 3701,\n",
              " 4351,\n",
              " 7572,\n",
              " 8537,\n",
              " 7639,\n",
              " 9961,\n",
              " 3538,\n",
              " 3862,\n",
              " 6179,\n",
              " 4613,\n",
              " 4575,\n",
              " 4959,\n",
              " 5527,\n",
              " 4940,\n",
              " 6524,\n",
              " 7779,\n",
              " 5929,\n",
              " 6639,\n",
              " 3299,\n",
              " 3990,\n",
              " 2946,\n",
              " 2830,\n",
              " 4270,\n",
              " 3446,\n",
              " 5708,\n",
              " 4849,\n",
              " 3630,\n",
              " 4182,\n",
              " 3065,\n",
              " 4651,\n",
              " 4808,\n",
              " 4633,\n",
              " 5820,\n",
              " 3219,\n",
              " 5116,\n",
              " 3820,\n",
              " 5573,\n",
              " 6338,\n",
              " 6296,\n",
              " 4805,\n",
              " 3819,\n",
              " 4290,\n",
              " 9535,\n",
              " 7306,\n",
              " 2522,\n",
              " 6404,\n",
              " 6115,\n",
              " 5557,\n",
              " 7682,\n",
              " 6503,\n",
              " 6070,\n",
              " 7812,\n",
              " 7261,\n",
              " 7471,\n",
              " 5870,\n",
              " 10229,\n",
              " 11312,\n",
              " 9517,\n",
              " 9315,\n",
              " 4589,\n",
              " 7089,\n",
              " 8343,\n",
              " 11944,\n",
              " 11272,\n",
              " 13070,\n",
              " 9213,\n",
              " 6663,\n",
              " 12904,\n",
              " 11295,\n",
              " 12142,\n",
              " 1603,\n",
              " 2009,\n",
              " 3640,\n",
              " 997,\n",
              " 1738,\n",
              " 2476,\n",
              " 2317,\n",
              " 1289,\n",
              " 2745,\n",
              " 2929,\n",
              " 3268,\n",
              " 3344,\n",
              " 5187,\n",
              " 4938,\n",
              " 4285,\n",
              " 4004,\n",
              " 5459,\n",
              " 2318,\n",
              " 2963,\n",
              " 2186,\n",
              " 1106,\n",
              " 1756,\n",
              " 1813,\n",
              " 1375,\n",
              " 2277,\n",
              " 1853,\n",
              " 1521,\n",
              " 1577,\n",
              " 1635,\n",
              " 2107,\n",
              " 1760,\n",
              " 4012,\n",
              " 3102,\n",
              " 2636,\n",
              " 1752,\n",
              " 2514,\n",
              " 1954,\n",
              " 2624,\n",
              " 4786,\n",
              " 3688,\n",
              " 3219,\n",
              " 4055,\n",
              " 4462,\n",
              " 2168,\n",
              " 2589,\n",
              " 2649,\n",
              " 2985,\n",
              " 3569,\n",
              " 2739,\n",
              " 3404,\n",
              " 2764,\n",
              " 1616,\n",
              " 2158,\n",
              " 2725,\n",
              " 3544,\n",
              " 2476,\n",
              " 1929,\n",
              " 2150,\n",
              " 2165,\n",
              " 1907,\n",
              " 9111,\n",
              " 830,\n",
              " 896,\n",
              " 2474,\n",
              " 1076,\n",
              " 2057,\n",
              " 985,\n",
              " 4054,\n",
              " 935,\n",
              " 2350,\n",
              " 1012,\n",
              " 2908,\n",
              " 12296,\n",
              " 2456,\n",
              " 2217,\n",
              " 2641,\n",
              " 2402,\n",
              " 6964,\n",
              " 2242,\n",
              " 1673,\n",
              " 12001,\n",
              " 18656,\n",
              " 1743,\n",
              " 19049,\n",
              " 2653,\n",
              " 2813,\n",
              " 2601,\n",
              " 2293,\n",
              " 1837,\n",
              " 1870,\n",
              " 2515,\n",
              " 1898,\n",
              " 1981,\n",
              " 2485,\n",
              " 3720,\n",
              " 4366,\n",
              " 3212,\n",
              " 3524,\n",
              " 3797,\n",
              " 3946,\n",
              " 4712,\n",
              " 2072,\n",
              " 2860,\n",
              " 2772,\n",
              " 2662,\n",
              " 2800,\n",
              " 2881,\n",
              " 3045,\n",
              " 3633,\n",
              " 3428,\n",
              " 3627,\n",
              " 3548,\n",
              " 3657,\n",
              " 3452,\n",
              " 2940,\n",
              " 3025,\n",
              " 2973,\n",
              " 3418,\n",
              " 3929,\n",
              " 4631,\n",
              " 4093]"
            ]
          },
          "metadata": {},
          "execution_count": 36
        }
      ]
    },
    {
      "cell_type": "code",
      "source": [],
      "metadata": {
        "id": "iApn_Y_uJRFj"
      },
      "execution_count": null,
      "outputs": []
    }
  ]
}