{
  "cells": [
    {
      "cell_type": "markdown",
      "metadata": {
        "id": "view-in-github",
        "colab_type": "text"
      },
      "source": [
        "<a href=\"https://colab.research.google.com/github/alex-smith-uwec/NLP_Spring2025/blob/main/DependencyParsing.ipynb\" target=\"_parent\"><img src=\"https://colab.research.google.com/assets/colab-badge.svg\" alt=\"Open In Colab\"/></a>"
      ]
    },
    {
      "cell_type": "markdown",
      "id": "6113f911-bc6f-44e0-b733-79aa64f8ff14",
      "metadata": {
        "id": "6113f911-bc6f-44e0-b733-79aa64f8ff14"
      },
      "source": [
        "\n",
        "Import corpus from Project Gutenberg\n",
        "\n",
        "Bigram and trigram analysis\n",
        "\n",
        "[ngram language model](https://en.wikipedia.org/wiki/Word_n-gram_language_model)\n",
        "\n",
        "[Google Books Ngram Viewer](https://books.google.com/ngrams/)"
      ]
    },
    {
      "cell_type": "markdown",
      "source": [
        "# Import a corpus from [Project Gutenberg](https://www.gutenberg.org/)"
      ],
      "metadata": {
        "id": "5zMjjp7nJP_p"
      },
      "id": "5zMjjp7nJP_p"
    },
    {
      "cell_type": "code",
      "execution_count": null,
      "id": "be6569c9-06df-4bf4-9ad3-8cffbe60975c",
      "metadata": {
        "colab": {
          "base_uri": "https://localhost:8080/"
        },
        "id": "be6569c9-06df-4bf4-9ad3-8cffbe60975c",
        "outputId": "255f7911-7d16-4f54-9c46-5fa216ff2fd6"
      },
      "outputs": [
        {
          "output_type": "stream",
          "name": "stdout",
          "text": [
            "﻿The Project Gutenberg eBook of Pride and Prejudice\r\n",
            "    \r\n",
            "This ebook is for the use of anyone anywhere in the United States and\r\n",
            "most other parts of the world at no cost and with almost no restrictions\r\n",
            "whatsoever. You may copy it, give it away or re-use it under the terms\r\n",
            "of the Project Gutenberg License included with this ebook or online\r\n",
            "at www.gutenberg.org. If you are not located in the United States,\r\n",
            "you will have to check the laws of the country where you are located\r\n",
            "before using this\n"
          ]
        }
      ],
      "source": [
        "import requests\n",
        "\n",
        "# Fetch book (Plain Text UTF-8)\n",
        "url = \"https://www.gutenberg.org/cache/epub/1342/pg1342.txt\" #Jane Austen, Pride and Prejudice\n",
        "response = requests.get(url)\n",
        "text = response.text\n",
        "\n",
        "print(text[:500])\n"
      ]
    },
    {
      "cell_type": "code",
      "execution_count": null,
      "id": "87f2d93c-31ac-46fd-b38e-aa4c918ef725",
      "metadata": {
        "colab": {
          "base_uri": "https://localhost:8080/"
        },
        "id": "87f2d93c-31ac-46fd-b38e-aa4c918ef725",
        "outputId": "833e5fb8-add6-4979-b5b6-2b2148af704b"
      },
      "outputs": [
        {
          "output_type": "stream",
          "name": "stdout",
          "text": [
            "first words:\n",
            " Chapter I.]\r\n",
            "\r\n",
            "\r\n",
            "It is a truth universally acknowledged, that a single man in possession\r\n",
            "of a good fortune must be in want of a wife.\r\n",
            "\r\n",
            "However little known the feelings or views of such a man may be on his\r\n",
            "first entering a neighbourhood, this truth is so well fixed in the minds\r\n",
            "of the surrounding families, that he is considered as the rightful\r\n",
            "property of some one or other of their daughters.\r\n",
            "\r\n",
            "“My dear Mr. Bennet,” said his lady to him one day, “have you heard that\r\n",
            "Netherfield Park is l\n",
            "\n",
            "\n",
            "last words:\n",
            "\n",
            "\n",
            " gratitude towards the persons who, by bringing\r\n",
            "her into Derbyshire, had been the means of uniting them.\r\n",
            "\r\n",
            "                            [Illustration:\r\n",
            "\r\n",
            "                                  THE\r\n",
            "                                  END\r\n",
            "                                   ]\r\n",
            "\r\n",
            "\r\n",
            "\r\n",
            "\r\n",
            "             CHISWICK PRESS:--CHARLES WHITTINGHAM AND CO.\r\n",
            "                  TOOKS COURT, CHANCERY LANE, LONDON.\r\n",
            "\r\n",
            "\r\n",
            "\r\n",
            "\r\n",
            "\n"
          ]
        }
      ],
      "source": [
        "# Strip headers and footers\n",
        "start_index = text.find(\"Chapter I.]\")\n",
        "end_index = text.find(\"*** END OF THE PROJECT GUTENBERG EBOOK PRIDE AND PREJUDICE ***\")\n",
        "corpus = text[start_index:end_index]\n",
        "\n",
        "# Display first 500 characters\n",
        "print(f\"first words:\\n {corpus[:500]}\\n\\n\")\n",
        "\n",
        "print(f\"last words:\\n\\n\\n {corpus[-400:]}\")"
      ]
    },
    {
      "cell_type": "markdown",
      "source": [
        "# Preparation: NLTK tools and tokenizing corpus"
      ],
      "metadata": {
        "id": "kef2yvjcwd5O"
      },
      "id": "kef2yvjcwd5O"
    },
    {
      "cell_type": "code",
      "source": [
        "!pip install contractions -q"
      ],
      "metadata": {
        "id": "5M0wpkxrPdPn",
        "outputId": "a0edd5d0-1360-4374-b022-695564aaf622",
        "colab": {
          "base_uri": "https://localhost:8080/"
        }
      },
      "id": "5M0wpkxrPdPn",
      "execution_count": null,
      "outputs": [
        {
          "output_type": "stream",
          "name": "stdout",
          "text": [
            "\u001b[2K   \u001b[90m━━━━━━━━━━━━━━━━━━━━━━━━━━━━━━━━━━━━━━━━\u001b[0m \u001b[32m289.9/289.9 kB\u001b[0m \u001b[31m4.8 MB/s\u001b[0m eta \u001b[36m0:00:00\u001b[0m\n",
            "\u001b[2K   \u001b[90m━━━━━━━━━━━━━━━━━━━━━━━━━━━━━━━━━━━━━━━━\u001b[0m \u001b[32m118.3/118.3 kB\u001b[0m \u001b[31m4.8 MB/s\u001b[0m eta \u001b[36m0:00:00\u001b[0m\n",
            "\u001b[?25h"
          ]
        }
      ]
    },
    {
      "cell_type": "code",
      "source": [
        "import nltk\n",
        "import numpy as np\n",
        "from nltk.tokenize import word_tokenize, sent_tokenize\n",
        "from nltk.corpus import stopwords\n",
        "from nltk import bigrams\n",
        "\n",
        "\n",
        "import contractions\n",
        "\n",
        "\n",
        "\n",
        "from nltk.collocations import BigramCollocationFinder\n",
        "from nltk.metrics import BigramAssocMeasures\n",
        "\n",
        "from nltk.collocations import TrigramCollocationFinder\n",
        "from nltk.metrics import TrigramAssocMeasures\n",
        "\n",
        "from nltk.probability import FreqDist\n",
        "from nltk.probability import ConditionalFreqDist\n",
        "\n",
        "import random\n"
      ],
      "metadata": {
        "id": "JwqbiqZO53cE"
      },
      "id": "JwqbiqZO53cE",
      "execution_count": null,
      "outputs": []
    },
    {
      "cell_type": "code",
      "source": [
        "#Expand contractions and replace possesive 's with just s.\n",
        "def clean_text(text):\n",
        "    # Expand contractions\n",
        "    expanded_text = contractions.fix(text)\n",
        "\n",
        "    # Replace remaining possessive 's with s\n",
        "    cleaned_text = expanded_text.replace(\"'s\", \"s\")\n",
        "\n",
        "    return cleaned_text"
      ],
      "metadata": {
        "id": "mRjplOTfPCEK"
      },
      "id": "mRjplOTfPCEK",
      "execution_count": null,
      "outputs": []
    },
    {
      "cell_type": "code",
      "source": [
        "corpus = clean_text(corpus)"
      ],
      "metadata": {
        "id": "UQHnH8xUPxYM"
      },
      "id": "UQHnH8xUPxYM",
      "execution_count": null,
      "outputs": []
    },
    {
      "cell_type": "code",
      "source": [
        "# Download NLTK resources\n",
        "nltk.download('punkt_tab')\n",
        "nltk.download('stopwords')"
      ],
      "metadata": {
        "colab": {
          "base_uri": "https://localhost:8080/"
        },
        "id": "vuEqbGo66PhY",
        "outputId": "9f13acbd-41fb-4591-d0a9-626f42f1c109"
      },
      "id": "vuEqbGo66PhY",
      "execution_count": null,
      "outputs": [
        {
          "output_type": "stream",
          "name": "stderr",
          "text": [
            "[nltk_data] Downloading package punkt_tab to /root/nltk_data...\n",
            "[nltk_data]   Unzipping tokenizers/punkt_tab.zip.\n",
            "[nltk_data] Downloading package stopwords to /root/nltk_data...\n",
            "[nltk_data]   Unzipping corpora/stopwords.zip.\n"
          ]
        },
        {
          "output_type": "execute_result",
          "data": {
            "text/plain": [
              "True"
            ]
          },
          "metadata": {},
          "execution_count": 7
        }
      ]
    },
    {
      "cell_type": "markdown",
      "source": [
        "We prepare two lists of words.\n",
        "One list has all words, with punctuation removed.\n",
        "The other list furthermore removes stopwords.\n",
        "\n",
        "These lists are named **filtered_words** and **no_stop_filtered_words**"
      ],
      "metadata": {
        "id": "tfFAoUn3w2C3"
      },
      "id": "tfFAoUn3w2C3"
    },
    {
      "cell_type": "code",
      "source": [
        "#Tokenize the corpus into words\n",
        "words = word_tokenize(corpus.lower())\n",
        "\n",
        "\n",
        "# Remove punctuation\n",
        "filtered_words = [word for word in words if word.isalnum()]\n",
        "\n",
        "#Remove stopwords\n",
        "no_stop_filtered_words = [word for word in filtered_words if word not in stopwords.words('english')]"
      ],
      "metadata": {
        "id": "xQgIpXub6c-J"
      },
      "id": "xQgIpXub6c-J",
      "execution_count": null,
      "outputs": []
    },
    {
      "cell_type": "code",
      "source": [
        "##After reviewing bigrams (below), decision to delete\n",
        "#1894, george, illustration, chapter\n",
        "\n",
        "filtered_words = [word for word in filtered_words if word not in ['1894', 'george', 'illustration', 'chapter']]\n",
        "no_stop_filtered_words = [word for word in filtered_words if word not in stopwords.words('english')]\n",
        "##\n",
        "##"
      ],
      "metadata": {
        "id": "NUSABGF4HnSM"
      },
      "id": "NUSABGF4HnSM",
      "execution_count": null,
      "outputs": []
    },
    {
      "cell_type": "markdown",
      "source": [
        "# Unigram model"
      ],
      "metadata": {
        "id": "wpiMeVearBod"
      },
      "id": "wpiMeVearBod"
    },
    {
      "cell_type": "code",
      "source": [
        "# Unigram model\n",
        "unigram_freq = FreqDist(filtered_words)\n",
        "\n",
        "# Convert FreqDist to probabilities\n",
        "word_probs = {word: freq / len(filtered_words) for word, freq in unigram_freq.items()}\n"
      ],
      "metadata": {
        "id": "XY4SBQQ1g7qi"
      },
      "id": "XY4SBQQ1g7qi",
      "execution_count": null,
      "outputs": []
    },
    {
      "cell_type": "code",
      "source": [
        "# Generate a sentence using the unigram model\n",
        "def generate_sentence(word_probs, sentence_length=10):\n",
        "    words = list(word_probs.keys())\n",
        "    probabilities = list(word_probs.values())\n",
        "\n",
        "    # Sample words independently\n",
        "    sentence = np.random.choice(words, size=sentence_length, p=probabilities)\n",
        "\n",
        "    return \" \".join(sentence)"
      ],
      "metadata": {
        "id": "EqzzXPyRh7Kz"
      },
      "id": "EqzzXPyRh7Kz",
      "execution_count": null,
      "outputs": []
    },
    {
      "cell_type": "code",
      "source": [
        "generate_sentence(word_probs,10)"
      ],
      "metadata": {
        "id": "IMd2FUP-tjsp",
        "outputId": "b6e5ee66-5054-4beb-f30d-ed878e2be76a",
        "colab": {
          "base_uri": "https://localhost:8080/",
          "height": 36
        }
      },
      "id": "IMd2FUP-tjsp",
      "execution_count": null,
      "outputs": [
        {
          "output_type": "execute_result",
          "data": {
            "text/plain": [
              "'his to the to to that person scarcely inspiring in'"
            ],
            "application/vnd.google.colaboratory.intrinsic+json": {
              "type": "string"
            }
          },
          "metadata": {},
          "execution_count": 12
        }
      ]
    },
    {
      "cell_type": "markdown",
      "source": [
        "# Bigram model"
      ],
      "metadata": {
        "id": "D2xiw0L5sn-H"
      },
      "id": "D2xiw0L5sn-H"
    },
    {
      "cell_type": "code",
      "execution_count": null,
      "id": "30566891-956e-4595-88a9-c6fe072b63e7",
      "metadata": {
        "id": "30566891-956e-4595-88a9-c6fe072b63e7"
      },
      "outputs": [],
      "source": [
        "finder = BigramCollocationFinder.from_words(filtered_words)\n",
        "finder_no_stops = BigramCollocationFinder.from_words(no_stop_filtered_words)"
      ]
    },
    {
      "cell_type": "code",
      "source": [
        "finder.apply_freq_filter(5)  # This filters out bigrams that occur less than 5 times\n",
        "statistical_bigrams_freq = finder.nbest(BigramAssocMeasures.raw_freq, 25)  # Adjust as needed\n",
        "statistical_bigrams_pmi = finder.nbest(BigramAssocMeasures.pmi, 25)  # Adjust as needed\n",
        "# In addition to raw_freq and pmi, also try chi_sq,likelihood_ratio,student_t\n",
        "#"
      ],
      "metadata": {
        "id": "SVfENTAu2rHq"
      },
      "id": "SVfENTAu2rHq",
      "execution_count": null,
      "outputs": []
    },
    {
      "cell_type": "code",
      "source": [
        "finder.apply_freq_filter(5)  # This filters out bigrams that occur less than 5 times\n",
        "statistical_bigrams_no_stops_freq = finder_no_stops.nbest(BigramAssocMeasures.raw_freq, 25)  # Adjust as needed\n",
        "statistical_bigrams_no_stops_pmi = finder_no_stops.nbest(BigramAssocMeasures.pmi, 25)  # Adjust as needed\n",
        "# also try bigram_measures.pmi, bigram_measures.chi_sq,likelihood_ratio,student_t\n",
        "#"
      ],
      "metadata": {
        "id": "BnkFzT-PmYj-"
      },
      "id": "BnkFzT-PmYj-",
      "execution_count": null,
      "outputs": []
    },
    {
      "cell_type": "markdown",
      "source": [
        "$$PMI(w_1, w_2) = \\log \\frac{P(w_1, w_2)}{P(w_1) P(w_2)}\n",
        "$$\n",
        "\n",
        "$$P(w_1, w_2) = \\frac{\\text{count}(w_1, w_2)}{\\sum \\text{count}(\\text{all bigrams})}\n",
        "$$\n"
      ],
      "metadata": {
        "id": "g1d4FCUYzFgG"
      },
      "id": "g1d4FCUYzFgG"
    },
    {
      "cell_type": "code",
      "source": [
        "# prompt: panda dataframe showing statistical_bigrams_freq, statistical_bigrams_pmi,statistical_bigrams_no_stops_freq,statistical_bigrams_no_stops_pmi\n",
        "\n",
        "import pandas as pd\n",
        "\n",
        "# Assuming statistical_bigrams_freq, statistical_bigrams_pmi, etc. are defined in your previous code\n",
        "\n",
        "data = {\n",
        "    'statistical_bigrams_freq': statistical_bigrams_freq,\n",
        "    'statistical_bigrams_pmi': statistical_bigrams_pmi,\n",
        "    'statistical_bigrams_no_stops_freq': statistical_bigrams_no_stops_freq,\n",
        "    'statistical_bigrams_no_stops_pmi': statistical_bigrams_no_stops_pmi\n",
        "}\n",
        "\n",
        "df = pd.DataFrame(data)\n",
        "df"
      ],
      "metadata": {
        "id": "MaR5HVOFA-Fr",
        "outputId": "281bf620-eaf1-4b44-ece0-21f720b9222f",
        "colab": {
          "base_uri": "https://localhost:8080/",
          "height": 819
        }
      },
      "id": "MaR5HVOFA-Fr",
      "execution_count": null,
      "outputs": [
        {
          "output_type": "execute_result",
          "data": {
            "text/plain": [
              "   statistical_bigrams_freq statistical_bigrams_pmi  \\\n",
              "0                 (of, the)         (humble, abode)   \n",
              "1                  (to, be)   (gracechurch, street)   \n",
              "2                 (in, the)            (de, bourgh)   \n",
              "3                   (i, am)      (thousand, pounds)   \n",
              "4                 (of, her)         (fair, cousins)   \n",
              "5                 (it, was)          (sir, william)   \n",
              "6                 (to, the)  (colonel, fitzwilliam)   \n",
              "7                 (of, his)          (few, moments)   \n",
              "8                (she, was)          (lucas, lodge)   \n",
              "9                (she, had)      (colonel, forster)   \n",
              "10              (had, been)         (ten, thousand)   \n",
              "11                 (it, is)          (depend, upon)   \n",
              "12                (i, have)          (down, stairs)   \n",
              "13               (that, he)            (drew, near)   \n",
              "14                (to, her)       (flatter, myself)   \n",
              "15             (could, not)          (few, minutes)   \n",
              "16               (for, the)             (sat, down)   \n",
              "17                (he, had)          (short, pause)   \n",
              "18               (and, the)           (make, haste)   \n",
              "19                (he, was)             (sit, down)   \n",
              "20                (on, the)              (set, off)   \n",
              "21                (such, a)         (its, contents)   \n",
              "22                  (in, a)             (few, days)   \n",
              "23             (have, been)          (ten, minutes)   \n",
              "24               (did, not)           (great, deal)   \n",
              "\n",
              "   statistical_bigrams_no_stops_freq statistical_bigrams_no_stops_pmi  \n",
              "0                  (lady, catherine)                 (adept, science)  \n",
              "1                    (miss, bingley)       (adhered, conscientiously)  \n",
              "2                     (miss, bennet)             (afflicting, parent)  \n",
              "3                  (said, elizabeth)              (although, utterly)  \n",
              "4                     (sir, william)              (amid, complaisant)  \n",
              "5                       (de, bourgh)               (amiss, practised)  \n",
              "6                      (miss, darcy)            (annoyed, insipidity)  \n",
              "7                       (young, man)        (asserted, blamelessness)  \n",
              "8             (colonel, fitzwilliam)            (attendant, research)  \n",
              "9                 (colonel, forster)                  (backed, ridge)  \n",
              "10                       (dare, say)          (beauteous, uniformity)  \n",
              "11                (elizabeth, could)             (bestowing, tribute)  \n",
              "12                   (young, ladies)              (blenheim, warwick)  \n",
              "13                     (miss, lucas)             (borrowed, feathers)  \n",
              "14                (cried, elizabeth)                   (bosoms, balm)  \n",
              "15                    (said, bennet)            (bounty, beneficence)  \n",
              "16                     (uncle, aunt)                    (bowl, punch)  \n",
              "17                     (great, deal)                (boxes, workbags)  \n",
              "18                      (went, away)               (bracelets, rings)  \n",
              "19                     (could, help)               (breathed, truest)  \n",
              "20                        (miss, de)                (breathing, port)  \n",
              "21                      (half, hour)            (bribery, corruption)  \n",
              "22                   (next, morning)                  (brings, beaux)  \n",
              "23              (replied, elizabeth)                  (brown, coarse)  \n",
              "24                (thousand, pounds)          (burying, parishioners)  "
            ],
            "text/html": [
              "\n",
              "  <div id=\"df-f77a577e-8f3b-441e-99ac-713aeea31316\" class=\"colab-df-container\">\n",
              "    <div>\n",
              "<style scoped>\n",
              "    .dataframe tbody tr th:only-of-type {\n",
              "        vertical-align: middle;\n",
              "    }\n",
              "\n",
              "    .dataframe tbody tr th {\n",
              "        vertical-align: top;\n",
              "    }\n",
              "\n",
              "    .dataframe thead th {\n",
              "        text-align: right;\n",
              "    }\n",
              "</style>\n",
              "<table border=\"1\" class=\"dataframe\">\n",
              "  <thead>\n",
              "    <tr style=\"text-align: right;\">\n",
              "      <th></th>\n",
              "      <th>statistical_bigrams_freq</th>\n",
              "      <th>statistical_bigrams_pmi</th>\n",
              "      <th>statistical_bigrams_no_stops_freq</th>\n",
              "      <th>statistical_bigrams_no_stops_pmi</th>\n",
              "    </tr>\n",
              "  </thead>\n",
              "  <tbody>\n",
              "    <tr>\n",
              "      <th>0</th>\n",
              "      <td>(of, the)</td>\n",
              "      <td>(humble, abode)</td>\n",
              "      <td>(lady, catherine)</td>\n",
              "      <td>(adept, science)</td>\n",
              "    </tr>\n",
              "    <tr>\n",
              "      <th>1</th>\n",
              "      <td>(to, be)</td>\n",
              "      <td>(gracechurch, street)</td>\n",
              "      <td>(miss, bingley)</td>\n",
              "      <td>(adhered, conscientiously)</td>\n",
              "    </tr>\n",
              "    <tr>\n",
              "      <th>2</th>\n",
              "      <td>(in, the)</td>\n",
              "      <td>(de, bourgh)</td>\n",
              "      <td>(miss, bennet)</td>\n",
              "      <td>(afflicting, parent)</td>\n",
              "    </tr>\n",
              "    <tr>\n",
              "      <th>3</th>\n",
              "      <td>(i, am)</td>\n",
              "      <td>(thousand, pounds)</td>\n",
              "      <td>(said, elizabeth)</td>\n",
              "      <td>(although, utterly)</td>\n",
              "    </tr>\n",
              "    <tr>\n",
              "      <th>4</th>\n",
              "      <td>(of, her)</td>\n",
              "      <td>(fair, cousins)</td>\n",
              "      <td>(sir, william)</td>\n",
              "      <td>(amid, complaisant)</td>\n",
              "    </tr>\n",
              "    <tr>\n",
              "      <th>5</th>\n",
              "      <td>(it, was)</td>\n",
              "      <td>(sir, william)</td>\n",
              "      <td>(de, bourgh)</td>\n",
              "      <td>(amiss, practised)</td>\n",
              "    </tr>\n",
              "    <tr>\n",
              "      <th>6</th>\n",
              "      <td>(to, the)</td>\n",
              "      <td>(colonel, fitzwilliam)</td>\n",
              "      <td>(miss, darcy)</td>\n",
              "      <td>(annoyed, insipidity)</td>\n",
              "    </tr>\n",
              "    <tr>\n",
              "      <th>7</th>\n",
              "      <td>(of, his)</td>\n",
              "      <td>(few, moments)</td>\n",
              "      <td>(young, man)</td>\n",
              "      <td>(asserted, blamelessness)</td>\n",
              "    </tr>\n",
              "    <tr>\n",
              "      <th>8</th>\n",
              "      <td>(she, was)</td>\n",
              "      <td>(lucas, lodge)</td>\n",
              "      <td>(colonel, fitzwilliam)</td>\n",
              "      <td>(attendant, research)</td>\n",
              "    </tr>\n",
              "    <tr>\n",
              "      <th>9</th>\n",
              "      <td>(she, had)</td>\n",
              "      <td>(colonel, forster)</td>\n",
              "      <td>(colonel, forster)</td>\n",
              "      <td>(backed, ridge)</td>\n",
              "    </tr>\n",
              "    <tr>\n",
              "      <th>10</th>\n",
              "      <td>(had, been)</td>\n",
              "      <td>(ten, thousand)</td>\n",
              "      <td>(dare, say)</td>\n",
              "      <td>(beauteous, uniformity)</td>\n",
              "    </tr>\n",
              "    <tr>\n",
              "      <th>11</th>\n",
              "      <td>(it, is)</td>\n",
              "      <td>(depend, upon)</td>\n",
              "      <td>(elizabeth, could)</td>\n",
              "      <td>(bestowing, tribute)</td>\n",
              "    </tr>\n",
              "    <tr>\n",
              "      <th>12</th>\n",
              "      <td>(i, have)</td>\n",
              "      <td>(down, stairs)</td>\n",
              "      <td>(young, ladies)</td>\n",
              "      <td>(blenheim, warwick)</td>\n",
              "    </tr>\n",
              "    <tr>\n",
              "      <th>13</th>\n",
              "      <td>(that, he)</td>\n",
              "      <td>(drew, near)</td>\n",
              "      <td>(miss, lucas)</td>\n",
              "      <td>(borrowed, feathers)</td>\n",
              "    </tr>\n",
              "    <tr>\n",
              "      <th>14</th>\n",
              "      <td>(to, her)</td>\n",
              "      <td>(flatter, myself)</td>\n",
              "      <td>(cried, elizabeth)</td>\n",
              "      <td>(bosoms, balm)</td>\n",
              "    </tr>\n",
              "    <tr>\n",
              "      <th>15</th>\n",
              "      <td>(could, not)</td>\n",
              "      <td>(few, minutes)</td>\n",
              "      <td>(said, bennet)</td>\n",
              "      <td>(bounty, beneficence)</td>\n",
              "    </tr>\n",
              "    <tr>\n",
              "      <th>16</th>\n",
              "      <td>(for, the)</td>\n",
              "      <td>(sat, down)</td>\n",
              "      <td>(uncle, aunt)</td>\n",
              "      <td>(bowl, punch)</td>\n",
              "    </tr>\n",
              "    <tr>\n",
              "      <th>17</th>\n",
              "      <td>(he, had)</td>\n",
              "      <td>(short, pause)</td>\n",
              "      <td>(great, deal)</td>\n",
              "      <td>(boxes, workbags)</td>\n",
              "    </tr>\n",
              "    <tr>\n",
              "      <th>18</th>\n",
              "      <td>(and, the)</td>\n",
              "      <td>(make, haste)</td>\n",
              "      <td>(went, away)</td>\n",
              "      <td>(bracelets, rings)</td>\n",
              "    </tr>\n",
              "    <tr>\n",
              "      <th>19</th>\n",
              "      <td>(he, was)</td>\n",
              "      <td>(sit, down)</td>\n",
              "      <td>(could, help)</td>\n",
              "      <td>(breathed, truest)</td>\n",
              "    </tr>\n",
              "    <tr>\n",
              "      <th>20</th>\n",
              "      <td>(on, the)</td>\n",
              "      <td>(set, off)</td>\n",
              "      <td>(miss, de)</td>\n",
              "      <td>(breathing, port)</td>\n",
              "    </tr>\n",
              "    <tr>\n",
              "      <th>21</th>\n",
              "      <td>(such, a)</td>\n",
              "      <td>(its, contents)</td>\n",
              "      <td>(half, hour)</td>\n",
              "      <td>(bribery, corruption)</td>\n",
              "    </tr>\n",
              "    <tr>\n",
              "      <th>22</th>\n",
              "      <td>(in, a)</td>\n",
              "      <td>(few, days)</td>\n",
              "      <td>(next, morning)</td>\n",
              "      <td>(brings, beaux)</td>\n",
              "    </tr>\n",
              "    <tr>\n",
              "      <th>23</th>\n",
              "      <td>(have, been)</td>\n",
              "      <td>(ten, minutes)</td>\n",
              "      <td>(replied, elizabeth)</td>\n",
              "      <td>(brown, coarse)</td>\n",
              "    </tr>\n",
              "    <tr>\n",
              "      <th>24</th>\n",
              "      <td>(did, not)</td>\n",
              "      <td>(great, deal)</td>\n",
              "      <td>(thousand, pounds)</td>\n",
              "      <td>(burying, parishioners)</td>\n",
              "    </tr>\n",
              "  </tbody>\n",
              "</table>\n",
              "</div>\n",
              "    <div class=\"colab-df-buttons\">\n",
              "\n",
              "  <div class=\"colab-df-container\">\n",
              "    <button class=\"colab-df-convert\" onclick=\"convertToInteractive('df-f77a577e-8f3b-441e-99ac-713aeea31316')\"\n",
              "            title=\"Convert this dataframe to an interactive table.\"\n",
              "            style=\"display:none;\">\n",
              "\n",
              "  <svg xmlns=\"http://www.w3.org/2000/svg\" height=\"24px\" viewBox=\"0 -960 960 960\">\n",
              "    <path d=\"M120-120v-720h720v720H120Zm60-500h600v-160H180v160Zm220 220h160v-160H400v160Zm0 220h160v-160H400v160ZM180-400h160v-160H180v160Zm440 0h160v-160H620v160ZM180-180h160v-160H180v160Zm440 0h160v-160H620v160Z\"/>\n",
              "  </svg>\n",
              "    </button>\n",
              "\n",
              "  <style>\n",
              "    .colab-df-container {\n",
              "      display:flex;\n",
              "      gap: 12px;\n",
              "    }\n",
              "\n",
              "    .colab-df-convert {\n",
              "      background-color: #E8F0FE;\n",
              "      border: none;\n",
              "      border-radius: 50%;\n",
              "      cursor: pointer;\n",
              "      display: none;\n",
              "      fill: #1967D2;\n",
              "      height: 32px;\n",
              "      padding: 0 0 0 0;\n",
              "      width: 32px;\n",
              "    }\n",
              "\n",
              "    .colab-df-convert:hover {\n",
              "      background-color: #E2EBFA;\n",
              "      box-shadow: 0px 1px 2px rgba(60, 64, 67, 0.3), 0px 1px 3px 1px rgba(60, 64, 67, 0.15);\n",
              "      fill: #174EA6;\n",
              "    }\n",
              "\n",
              "    .colab-df-buttons div {\n",
              "      margin-bottom: 4px;\n",
              "    }\n",
              "\n",
              "    [theme=dark] .colab-df-convert {\n",
              "      background-color: #3B4455;\n",
              "      fill: #D2E3FC;\n",
              "    }\n",
              "\n",
              "    [theme=dark] .colab-df-convert:hover {\n",
              "      background-color: #434B5C;\n",
              "      box-shadow: 0px 1px 3px 1px rgba(0, 0, 0, 0.15);\n",
              "      filter: drop-shadow(0px 1px 2px rgba(0, 0, 0, 0.3));\n",
              "      fill: #FFFFFF;\n",
              "    }\n",
              "  </style>\n",
              "\n",
              "    <script>\n",
              "      const buttonEl =\n",
              "        document.querySelector('#df-f77a577e-8f3b-441e-99ac-713aeea31316 button.colab-df-convert');\n",
              "      buttonEl.style.display =\n",
              "        google.colab.kernel.accessAllowed ? 'block' : 'none';\n",
              "\n",
              "      async function convertToInteractive(key) {\n",
              "        const element = document.querySelector('#df-f77a577e-8f3b-441e-99ac-713aeea31316');\n",
              "        const dataTable =\n",
              "          await google.colab.kernel.invokeFunction('convertToInteractive',\n",
              "                                                    [key], {});\n",
              "        if (!dataTable) return;\n",
              "\n",
              "        const docLinkHtml = 'Like what you see? Visit the ' +\n",
              "          '<a target=\"_blank\" href=https://colab.research.google.com/notebooks/data_table.ipynb>data table notebook</a>'\n",
              "          + ' to learn more about interactive tables.';\n",
              "        element.innerHTML = '';\n",
              "        dataTable['output_type'] = 'display_data';\n",
              "        await google.colab.output.renderOutput(dataTable, element);\n",
              "        const docLink = document.createElement('div');\n",
              "        docLink.innerHTML = docLinkHtml;\n",
              "        element.appendChild(docLink);\n",
              "      }\n",
              "    </script>\n",
              "  </div>\n",
              "\n",
              "\n",
              "<div id=\"df-7fd38a26-0644-4fe5-af2c-33d2a6e10f15\">\n",
              "  <button class=\"colab-df-quickchart\" onclick=\"quickchart('df-7fd38a26-0644-4fe5-af2c-33d2a6e10f15')\"\n",
              "            title=\"Suggest charts\"\n",
              "            style=\"display:none;\">\n",
              "\n",
              "<svg xmlns=\"http://www.w3.org/2000/svg\" height=\"24px\"viewBox=\"0 0 24 24\"\n",
              "     width=\"24px\">\n",
              "    <g>\n",
              "        <path d=\"M19 3H5c-1.1 0-2 .9-2 2v14c0 1.1.9 2 2 2h14c1.1 0 2-.9 2-2V5c0-1.1-.9-2-2-2zM9 17H7v-7h2v7zm4 0h-2V7h2v10zm4 0h-2v-4h2v4z\"/>\n",
              "    </g>\n",
              "</svg>\n",
              "  </button>\n",
              "\n",
              "<style>\n",
              "  .colab-df-quickchart {\n",
              "      --bg-color: #E8F0FE;\n",
              "      --fill-color: #1967D2;\n",
              "      --hover-bg-color: #E2EBFA;\n",
              "      --hover-fill-color: #174EA6;\n",
              "      --disabled-fill-color: #AAA;\n",
              "      --disabled-bg-color: #DDD;\n",
              "  }\n",
              "\n",
              "  [theme=dark] .colab-df-quickchart {\n",
              "      --bg-color: #3B4455;\n",
              "      --fill-color: #D2E3FC;\n",
              "      --hover-bg-color: #434B5C;\n",
              "      --hover-fill-color: #FFFFFF;\n",
              "      --disabled-bg-color: #3B4455;\n",
              "      --disabled-fill-color: #666;\n",
              "  }\n",
              "\n",
              "  .colab-df-quickchart {\n",
              "    background-color: var(--bg-color);\n",
              "    border: none;\n",
              "    border-radius: 50%;\n",
              "    cursor: pointer;\n",
              "    display: none;\n",
              "    fill: var(--fill-color);\n",
              "    height: 32px;\n",
              "    padding: 0;\n",
              "    width: 32px;\n",
              "  }\n",
              "\n",
              "  .colab-df-quickchart:hover {\n",
              "    background-color: var(--hover-bg-color);\n",
              "    box-shadow: 0 1px 2px rgba(60, 64, 67, 0.3), 0 1px 3px 1px rgba(60, 64, 67, 0.15);\n",
              "    fill: var(--button-hover-fill-color);\n",
              "  }\n",
              "\n",
              "  .colab-df-quickchart-complete:disabled,\n",
              "  .colab-df-quickchart-complete:disabled:hover {\n",
              "    background-color: var(--disabled-bg-color);\n",
              "    fill: var(--disabled-fill-color);\n",
              "    box-shadow: none;\n",
              "  }\n",
              "\n",
              "  .colab-df-spinner {\n",
              "    border: 2px solid var(--fill-color);\n",
              "    border-color: transparent;\n",
              "    border-bottom-color: var(--fill-color);\n",
              "    animation:\n",
              "      spin 1s steps(1) infinite;\n",
              "  }\n",
              "\n",
              "  @keyframes spin {\n",
              "    0% {\n",
              "      border-color: transparent;\n",
              "      border-bottom-color: var(--fill-color);\n",
              "      border-left-color: var(--fill-color);\n",
              "    }\n",
              "    20% {\n",
              "      border-color: transparent;\n",
              "      border-left-color: var(--fill-color);\n",
              "      border-top-color: var(--fill-color);\n",
              "    }\n",
              "    30% {\n",
              "      border-color: transparent;\n",
              "      border-left-color: var(--fill-color);\n",
              "      border-top-color: var(--fill-color);\n",
              "      border-right-color: var(--fill-color);\n",
              "    }\n",
              "    40% {\n",
              "      border-color: transparent;\n",
              "      border-right-color: var(--fill-color);\n",
              "      border-top-color: var(--fill-color);\n",
              "    }\n",
              "    60% {\n",
              "      border-color: transparent;\n",
              "      border-right-color: var(--fill-color);\n",
              "    }\n",
              "    80% {\n",
              "      border-color: transparent;\n",
              "      border-right-color: var(--fill-color);\n",
              "      border-bottom-color: var(--fill-color);\n",
              "    }\n",
              "    90% {\n",
              "      border-color: transparent;\n",
              "      border-bottom-color: var(--fill-color);\n",
              "    }\n",
              "  }\n",
              "</style>\n",
              "\n",
              "  <script>\n",
              "    async function quickchart(key) {\n",
              "      const quickchartButtonEl =\n",
              "        document.querySelector('#' + key + ' button');\n",
              "      quickchartButtonEl.disabled = true;  // To prevent multiple clicks.\n",
              "      quickchartButtonEl.classList.add('colab-df-spinner');\n",
              "      try {\n",
              "        const charts = await google.colab.kernel.invokeFunction(\n",
              "            'suggestCharts', [key], {});\n",
              "      } catch (error) {\n",
              "        console.error('Error during call to suggestCharts:', error);\n",
              "      }\n",
              "      quickchartButtonEl.classList.remove('colab-df-spinner');\n",
              "      quickchartButtonEl.classList.add('colab-df-quickchart-complete');\n",
              "    }\n",
              "    (() => {\n",
              "      let quickchartButtonEl =\n",
              "        document.querySelector('#df-7fd38a26-0644-4fe5-af2c-33d2a6e10f15 button');\n",
              "      quickchartButtonEl.style.display =\n",
              "        google.colab.kernel.accessAllowed ? 'block' : 'none';\n",
              "    })();\n",
              "  </script>\n",
              "</div>\n",
              "\n",
              "  <div id=\"id_da223b71-2364-47ea-90a2-2f37df9ae279\">\n",
              "    <style>\n",
              "      .colab-df-generate {\n",
              "        background-color: #E8F0FE;\n",
              "        border: none;\n",
              "        border-radius: 50%;\n",
              "        cursor: pointer;\n",
              "        display: none;\n",
              "        fill: #1967D2;\n",
              "        height: 32px;\n",
              "        padding: 0 0 0 0;\n",
              "        width: 32px;\n",
              "      }\n",
              "\n",
              "      .colab-df-generate:hover {\n",
              "        background-color: #E2EBFA;\n",
              "        box-shadow: 0px 1px 2px rgba(60, 64, 67, 0.3), 0px 1px 3px 1px rgba(60, 64, 67, 0.15);\n",
              "        fill: #174EA6;\n",
              "      }\n",
              "\n",
              "      [theme=dark] .colab-df-generate {\n",
              "        background-color: #3B4455;\n",
              "        fill: #D2E3FC;\n",
              "      }\n",
              "\n",
              "      [theme=dark] .colab-df-generate:hover {\n",
              "        background-color: #434B5C;\n",
              "        box-shadow: 0px 1px 3px 1px rgba(0, 0, 0, 0.15);\n",
              "        filter: drop-shadow(0px 1px 2px rgba(0, 0, 0, 0.3));\n",
              "        fill: #FFFFFF;\n",
              "      }\n",
              "    </style>\n",
              "    <button class=\"colab-df-generate\" onclick=\"generateWithVariable('df')\"\n",
              "            title=\"Generate code using this dataframe.\"\n",
              "            style=\"display:none;\">\n",
              "\n",
              "  <svg xmlns=\"http://www.w3.org/2000/svg\" height=\"24px\"viewBox=\"0 0 24 24\"\n",
              "       width=\"24px\">\n",
              "    <path d=\"M7,19H8.4L18.45,9,17,7.55,7,17.6ZM5,21V16.75L18.45,3.32a2,2,0,0,1,2.83,0l1.4,1.43a1.91,1.91,0,0,1,.58,1.4,1.91,1.91,0,0,1-.58,1.4L9.25,21ZM18.45,9,17,7.55Zm-12,3A5.31,5.31,0,0,0,4.9,8.1,5.31,5.31,0,0,0,1,6.5,5.31,5.31,0,0,0,4.9,4.9,5.31,5.31,0,0,0,6.5,1,5.31,5.31,0,0,0,8.1,4.9,5.31,5.31,0,0,0,12,6.5,5.46,5.46,0,0,0,6.5,12Z\"/>\n",
              "  </svg>\n",
              "    </button>\n",
              "    <script>\n",
              "      (() => {\n",
              "      const buttonEl =\n",
              "        document.querySelector('#id_da223b71-2364-47ea-90a2-2f37df9ae279 button.colab-df-generate');\n",
              "      buttonEl.style.display =\n",
              "        google.colab.kernel.accessAllowed ? 'block' : 'none';\n",
              "\n",
              "      buttonEl.onclick = () => {\n",
              "        google.colab.notebook.generateWithVariable('df');\n",
              "      }\n",
              "      })();\n",
              "    </script>\n",
              "  </div>\n",
              "\n",
              "    </div>\n",
              "  </div>\n"
            ],
            "application/vnd.google.colaboratory.intrinsic+json": {
              "type": "dataframe",
              "variable_name": "df",
              "summary": "{\n  \"name\": \"df\",\n  \"rows\": 25,\n  \"fields\": [\n    {\n      \"column\": \"statistical_bigrams_freq\",\n      \"properties\": {\n        \"dtype\": \"string\",\n        \"num_unique_values\": 25,\n        \"samples\": [\n          [\n            \"she\",\n            \"was\"\n          ],\n          [\n            \"for\",\n            \"the\"\n          ],\n          [\n            \"of\",\n            \"the\"\n          ]\n        ],\n        \"semantic_type\": \"\",\n        \"description\": \"\"\n      }\n    },\n    {\n      \"column\": \"statistical_bigrams_pmi\",\n      \"properties\": {\n        \"dtype\": \"string\",\n        \"num_unique_values\": 25,\n        \"samples\": [\n          [\n            \"lucas\",\n            \"lodge\"\n          ],\n          [\n            \"sat\",\n            \"down\"\n          ],\n          [\n            \"humble\",\n            \"abode\"\n          ]\n        ],\n        \"semantic_type\": \"\",\n        \"description\": \"\"\n      }\n    },\n    {\n      \"column\": \"statistical_bigrams_no_stops_freq\",\n      \"properties\": {\n        \"dtype\": \"string\",\n        \"num_unique_values\": 25,\n        \"samples\": [\n          [\n            \"colonel\",\n            \"fitzwilliam\"\n          ],\n          [\n            \"uncle\",\n            \"aunt\"\n          ],\n          [\n            \"lady\",\n            \"catherine\"\n          ]\n        ],\n        \"semantic_type\": \"\",\n        \"description\": \"\"\n      }\n    },\n    {\n      \"column\": \"statistical_bigrams_no_stops_pmi\",\n      \"properties\": {\n        \"dtype\": \"string\",\n        \"num_unique_values\": 25,\n        \"samples\": [\n          [\n            \"attendant\",\n            \"research\"\n          ],\n          [\n            \"bowl\",\n            \"punch\"\n          ],\n          [\n            \"adept\",\n            \"science\"\n          ]\n        ],\n        \"semantic_type\": \"\",\n        \"description\": \"\"\n      }\n    }\n  ]\n}"
            }
          },
          "metadata": {},
          "execution_count": 16
        }
      ]
    },
    {
      "cell_type": "markdown",
      "source": [
        "Note the bigrams (1894, george) and (illustration, chapter).\n",
        "Should go back and delete these from corpus. (Done above.)"
      ],
      "metadata": {
        "id": "s4JwA1f8hsFW"
      },
      "id": "s4JwA1f8hsFW"
    },
    {
      "cell_type": "code",
      "source": [
        "from collections import Counter, defaultdict # Import Counter and defaultdict"
      ],
      "metadata": {
        "id": "W5JUmoI5iGDx"
      },
      "id": "W5JUmoI5iGDx",
      "execution_count": null,
      "outputs": []
    },
    {
      "cell_type": "markdown",
      "source": [
        "**defaultdict** is a subclass of Python's built-in dict class, provided by the collections module. It is used to create dictionaries that provide a default value for a key if it has not been set yet. This avoids the need to check for the existence of a key before accessing or modifying its value."
      ],
      "metadata": {
        "id": "rDPidUvOiedd"
      },
      "id": "rDPidUvOiedd"
    },
    {
      "cell_type": "code",
      "source": [
        "tokens=filtered_words #non-alpha removed, but stopwords remain"
      ],
      "metadata": {
        "id": "atF0od-Qhekn"
      },
      "id": "atF0od-Qhekn",
      "execution_count": null,
      "outputs": []
    },
    {
      "cell_type": "code",
      "source": [
        "# Count unigrams and bigrams\n",
        "unigram_counts = Counter(tokens)\n",
        "bigram_counts = Counter(bigrams(tokens))"
      ],
      "metadata": {
        "id": "Qdll-fhbi3Ul"
      },
      "id": "Qdll-fhbi3Ul",
      "execution_count": null,
      "outputs": []
    },
    {
      "cell_type": "markdown",
      "source": [
        "$$\n",
        "P(w_2 \\mid w_1) = \\frac{\\text{count}(w_1, w_2) + 1}{\\text{count}(w_1) + V}\n",
        "$$"
      ],
      "metadata": {
        "id": "Y_mw-PTzg8Gl"
      },
      "id": "Y_mw-PTzg8Gl"
    },
    {
      "cell_type": "code",
      "source": [
        "# Calculate bigram probabilities with Laplace smoothing\n",
        "vocab_size = len(unigram_counts)\n",
        "bigram_probs = defaultdict(lambda: 1 / vocab_size)  # Default probability for unseen bigrams\n",
        "\n",
        "for (w1, w2), count in bigram_counts.items():\n",
        "    bigram_probs[(w1, w2)] = (count + 1) / (unigram_counts[w1] + vocab_size)\n",
        "\n",
        "# Test the bigram model: Probability of \"this is\"\n",
        "print(f\"P('is' | 'this') = {bigram_probs[('this', 'is')]}\")"
      ],
      "metadata": {
        "colab": {
          "base_uri": "https://localhost:8080/"
        },
        "id": "nTikp1lNjDme",
        "outputId": "0ca31096-a531-4e31-88d8-fccb117dbf2b"
      },
      "id": "nTikp1lNjDme",
      "execution_count": null,
      "outputs": [
        {
          "output_type": "stream",
          "name": "stdout",
          "text": [
            "P('is' | 'this') = 0.0045351473922902496\n"
          ]
        }
      ]
    },
    {
      "cell_type": "code",
      "source": [
        "# Generate text using the model\n",
        "\n",
        "def generate_bigram_text(start_word, length=20):\n",
        "    text = [start_word]\n",
        "    for _ in range(length - 1):\n",
        "        # Get all possible next words and their probabilities\n",
        "        next_word_probs = [(pair[1], prob) for pair, prob in bigram_probs.items()\n",
        "                          if pair[0] == text[-1]]\n",
        "        if not next_word_probs:\n",
        "            break\n",
        "        words, probs = zip(*next_word_probs)\n",
        "        next_word = random.choices(words, weights=probs)[0]\n",
        "        text.append(next_word)\n",
        "    return ' '.join(text)\n",
        "\n",
        "\n"
      ],
      "metadata": {
        "id": "nF26DBH0737O"
      },
      "id": "nF26DBH0737O",
      "execution_count": null,
      "outputs": []
    },
    {
      "cell_type": "code",
      "source": [
        "generate_bigram_text('miss')"
      ],
      "metadata": {
        "id": "c_A96y2J_7NJ",
        "outputId": "4cb81903-be41-42f7-f89c-505eec7f8edb",
        "colab": {
          "base_uri": "https://localhost:8080/",
          "height": 36
        }
      },
      "id": "c_A96y2J_7NJ",
      "execution_count": null,
      "outputs": [
        {
          "output_type": "execute_result",
          "data": {
            "text/plain": [
              "'miss bingley and engagements at any regret anything was the easiness of his being alarmed though up the lodges opening'"
            ],
            "application/vnd.google.colaboratory.intrinsic+json": {
              "type": "string"
            }
          },
          "metadata": {},
          "execution_count": 22
        }
      ]
    },
    {
      "cell_type": "code",
      "source": [],
      "metadata": {
        "id": "eLnU1-WgsPQj"
      },
      "id": "eLnU1-WgsPQj",
      "execution_count": null,
      "outputs": []
    },
    {
      "cell_type": "markdown",
      "source": [
        "# Trigram model"
      ],
      "metadata": {
        "id": "4wnGTGoqs1S7"
      },
      "id": "4wnGTGoqs1S7"
    },
    {
      "cell_type": "code",
      "source": [],
      "metadata": {
        "id": "oxktXWfJsNxN"
      },
      "id": "oxktXWfJsNxN",
      "execution_count": null,
      "outputs": []
    },
    {
      "cell_type": "markdown",
      "source": [
        "$$\n",
        "P(w_3 \\mid w_1, w_2) = \\frac{\\text{count}(w_1, w_2, w_3) + 1}{\\text{count}(w_1, w_2) + V}\n",
        "$$\n"
      ],
      "metadata": {
        "id": "YeaQjJZ0r5h8"
      },
      "id": "YeaQjJZ0r5h8"
    },
    {
      "cell_type": "code",
      "source": [
        "finder3 = TrigramCollocationFinder.from_words(filtered_words)\n",
        "finder3_no_stops = TrigramCollocationFinder.from_words(no_stop_filtered_words)"
      ],
      "metadata": {
        "id": "2SMmo2SvJEP2"
      },
      "id": "2SMmo2SvJEP2",
      "execution_count": null,
      "outputs": []
    },
    {
      "cell_type": "code",
      "source": [
        "N=2 #filter to trigrams that appear at least N times\n",
        "finder3.apply_freq_filter(N)  # Only keep trigrams that occur at least N times\n",
        "frequent_trigrams = finder3.nbest(TrigramAssocMeasures.raw_freq, 25)\n",
        "\n",
        "frequent_trigrams"
      ],
      "metadata": {
        "colab": {
          "base_uri": "https://localhost:8080/"
        },
        "id": "RNOgn9hRKNZd",
        "outputId": "647a2f34-87c4-4de8-fcad-b51e0504db29"
      },
      "id": "RNOgn9hRKNZd",
      "execution_count": null,
      "outputs": [
        {
          "output_type": "execute_result",
          "data": {
            "text/plain": [
              "[('i', 'am', 'sure'),\n",
              " ('i', 'do', 'not'),\n",
              " ('as', 'soon', 'as'),\n",
              " ('i', 'can', 'not'),\n",
              " ('she', 'could', 'not'),\n",
              " ('that', 'he', 'had'),\n",
              " ('in', 'the', 'world'),\n",
              " ('it', 'would', 'be'),\n",
              " ('it', 'was', 'not'),\n",
              " ('that', 'he', 'was'),\n",
              " ('could', 'not', 'be'),\n",
              " ('i', 'am', 'not'),\n",
              " ('that', 'it', 'was'),\n",
              " ('as', 'well', 'as'),\n",
              " ('i', 'dare', 'say'),\n",
              " ('would', 'have', 'been'),\n",
              " ('by', 'no', 'means'),\n",
              " ('can', 'not', 'be'),\n",
              " ('that', 'she', 'had'),\n",
              " ('and', 'she', 'was'),\n",
              " ('on', 'the', 'subject'),\n",
              " ('one', 'of', 'the'),\n",
              " ('he', 'had', 'been'),\n",
              " ('i', 'did', 'not'),\n",
              " ('i', 'have', 'not')]"
            ]
          },
          "metadata": {},
          "execution_count": 24
        }
      ]
    },
    {
      "cell_type": "code",
      "source": [
        "N=2 #filter to trigrams that appear at least N times\n",
        "finder3_no_stops.apply_freq_filter(N)  # Only keep trigrams that occur at least N times\n",
        "frequent_trigrams_no_stops = finder3_no_stops.nbest(TrigramAssocMeasures.raw_freq, 25)\n",
        "\n",
        "frequent_trigrams_no_stops"
      ],
      "metadata": {
        "colab": {
          "base_uri": "https://localhost:8080/"
        },
        "id": "HEfdpIKVJEmw",
        "outputId": "c7c669b1-45a2-4bb3-9337-3f4807c4d611"
      },
      "id": "HEfdpIKVJEmw",
      "execution_count": null,
      "outputs": [
        {
          "output_type": "execute_result",
          "data": {
            "text/plain": [
              "[('miss', 'de', 'bourgh'),\n",
              " ('lady', 'catherine', 'de'),\n",
              " ('catherine', 'de', 'bourgh'),\n",
              " ('said', 'miss', 'bingley'),\n",
              " ('sir', 'william', 'lucas'),\n",
              " ('hurst', 'miss', 'bingley'),\n",
              " ('lady', 'catherine', 'daughter'),\n",
              " ('ten', 'thousand', 'pounds'),\n",
              " ('could', 'think', 'nothing'),\n",
              " ('could', 'think', 'without'),\n",
              " ('dear', 'said', 'bennet'),\n",
              " ('elizabeth', 'could', 'help'),\n",
              " ('elizabeth', 'made', 'answer'),\n",
              " ('lady', 'catherine', 'seemed'),\n",
              " ('may', 'depend', 'upon'),\n",
              " ('miss', 'bennet', 'came'),\n",
              " ('miss', 'elizabeth', 'bennet'),\n",
              " ('said', 'elizabeth', 'must'),\n",
              " ('since', 'went', 'away'),\n",
              " ('ten', 'thousand', 'year'),\n",
              " ('three', 'young', 'ladies'),\n",
              " ('without', 'saying', 'word'),\n",
              " ('card', 'tables', 'placed'),\n",
              " ('could', 'hardly', 'help'),\n",
              " ('could', 'help', 'saying')]"
            ]
          },
          "metadata": {},
          "execution_count": 25
        }
      ]
    },
    {
      "cell_type": "code",
      "source": [
        "# Count unigrams, bigrams, and trigrams\n",
        "unigram_counts = Counter(tokens)\n",
        "bigram_counts = Counter(bigrams(tokens))\n",
        "trigram_counts = Counter(zip(tokens[:-2], tokens[1:-1], tokens[2:]))\n",
        "\n"
      ],
      "metadata": {
        "id": "OdEvydblkMqx"
      },
      "id": "OdEvydblkMqx",
      "execution_count": null,
      "outputs": []
    },
    {
      "cell_type": "code",
      "source": [
        "# Calculate trigram probabilities with Laplace smoothing\n",
        "vocab_size = len(unigram_counts)\n",
        "trigram_probs = defaultdict(lambda: 1 / vocab_size)  # Default probability for unseen trigrams\n",
        "\n",
        "for (w1, w2, w3), count in trigram_counts.items():\n",
        "    trigram_probs[(w1, w2, w3)] = (count + 1) / (bigram_counts[(w1, w2)] + vocab_size)\n",
        "\n",
        "# Test the trigram model: Probability of \"am sure\" given \"i\"\n",
        "print(f\"P('sure' | 'i am') = {trigram_probs[('i', 'am', 'sure')]}\")\n",
        "\n"
      ],
      "metadata": {
        "colab": {
          "base_uri": "https://localhost:8080/"
        },
        "id": "RbVDAvzknrM8",
        "outputId": "4daa5382-1839-47ec-8557-91b66a19a663"
      },
      "id": "RbVDAvzknrM8",
      "execution_count": null,
      "outputs": [
        {
          "output_type": "stream",
          "name": "stdout",
          "text": [
            "P('sure' | 'i am') = 0.009560524286815728\n"
          ]
        }
      ]
    },
    {
      "cell_type": "code",
      "source": [
        "# Generate text using the trigram model\n",
        "def generate_trigram_text(start_words, length=20):\n",
        "    # `start_words` should contain two words to start the trigram model\n",
        "    if len(start_words) != 2:\n",
        "        raise ValueError(\"start_words must contain exactly two words.\")\n",
        "\n",
        "    text = list(start_words)\n",
        "    for _ in range(length - 2):\n",
        "        # Get all possible next words and their probabilities\n",
        "        next_word_probs = [\n",
        "            (triple[2], prob) for triple, prob in trigram_probs.items()\n",
        "            if triple[0] == text[-2] and triple[1] == text[-1]\n",
        "        ]\n",
        "        if not next_word_probs:\n",
        "            break\n",
        "        words, probs = zip(*next_word_probs)\n",
        "        next_word = random.choices(words, weights=probs)[0]\n",
        "        text.append(next_word)\n",
        "    return ' '.join(text)"
      ],
      "metadata": {
        "id": "bFwWgPxHnrqM"
      },
      "id": "bFwWgPxHnrqM",
      "execution_count": null,
      "outputs": []
    },
    {
      "cell_type": "code",
      "source": [
        "generate_trigram_text(start_words=('i','am'),length=20)"
      ],
      "metadata": {
        "colab": {
          "base_uri": "https://localhost:8080/",
          "height": 56
        },
        "id": "ZLk0Z7q_nsGa",
        "outputId": "0c4ca8fa-018a-451f-e765-677a25625446"
      },
      "id": "ZLk0Z7q_nsGa",
      "execution_count": null,
      "outputs": [
        {
          "output_type": "execute_result",
          "data": {
            "text/plain": [
              "'i am that choice why may not be so short and she only said lately wickham to darcy were by'"
            ],
            "application/vnd.google.colaboratory.intrinsic+json": {
              "type": "string"
            }
          },
          "metadata": {},
          "execution_count": 29
        }
      ]
    },
    {
      "cell_type": "code",
      "source": [],
      "metadata": {
        "id": "akKizTQWqGUQ"
      },
      "id": "akKizTQWqGUQ",
      "execution_count": null,
      "outputs": []
    }
  ],
  "metadata": {
    "kernelspec": {
      "display_name": "Python 3 (ipykernel)",
      "language": "python",
      "name": "python3"
    },
    "language_info": {
      "codemirror_mode": {
        "name": "ipython",
        "version": 3
      },
      "file_extension": ".py",
      "mimetype": "text/x-python",
      "name": "python",
      "nbconvert_exporter": "python",
      "pygments_lexer": "ipython3",
      "version": "3.11.8"
    },
    "colab": {
      "provenance": [],
      "include_colab_link": true
    }
  },
  "nbformat": 4,
  "nbformat_minor": 5
}