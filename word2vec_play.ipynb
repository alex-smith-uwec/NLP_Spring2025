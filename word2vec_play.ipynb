{
  "nbformat": 4,
  "nbformat_minor": 0,
  "metadata": {
    "colab": {
      "provenance": [],
      "authorship_tag": "ABX9TyNdWKbvfQUR8cOAxn7FTWfo",
      "include_colab_link": true
    },
    "kernelspec": {
      "name": "python3",
      "display_name": "Python 3"
    },
    "language_info": {
      "name": "python"
    }
  },
  "cells": [
    {
      "cell_type": "markdown",
      "metadata": {
        "id": "view-in-github",
        "colab_type": "text"
      },
      "source": [
        "<a href=\"https://colab.research.google.com/github/alex-smith-uwec/NLP_Spring2025/blob/main/word2vec_play.ipynb\" target=\"_parent\"><img src=\"https://colab.research.google.com/assets/colab-badge.svg\" alt=\"Open In Colab\"/></a>"
      ]
    },
    {
      "cell_type": "code",
      "source": [
        "!pip install datasets -q"
      ],
      "metadata": {
        "id": "yMxhT_Z22fJ_"
      },
      "execution_count": null,
      "outputs": []
    },
    {
      "cell_type": "code",
      "execution_count": null,
      "metadata": {
        "id": "avBkz_cR2WWP"
      },
      "outputs": [],
      "source": [
        "import gensim\n",
        "from gensim.models import Word2Vec\n",
        "\n",
        "\n",
        "\n",
        "from datasets import load_dataset\n",
        "\n",
        "import spacy\n",
        "import re\n",
        "import random\n",
        "import numpy as np\n"
      ]
    },
    {
      "cell_type": "code",
      "source": [],
      "metadata": {
        "id": "m7JuBBa54wY4"
      },
      "execution_count": null,
      "outputs": []
    },
    {
      "cell_type": "code",
      "source": [],
      "metadata": {
        "id": "O5wGfadn4xlP"
      },
      "execution_count": null,
      "outputs": []
    },
    {
      "cell_type": "markdown",
      "source": [
        "https://huggingface.co/datasets/legacy-datasets/wikipedia"
      ],
      "metadata": {
        "id": "q9tssNtE1CFp"
      }
    },
    {
      "cell_type": "code",
      "source": [
        "# Load the Wikipedia dataset\n",
        "dataset = load_dataset(\"wikipedia\", \"20220301.simple\", split=\"train\")\n",
        "\n",
        "# Convert dataset into a list of tuples (title, text) for efficient random sampling\n",
        "data_list = list(zip(dataset[\"title\"], dataset[\"text\"]))\n",
        "\n",
        "# Shuffle the dataset and pick the first N articles\n",
        "random.shuffle(data_list)\n",
        "N = 10000\n",
        "sampled_data = data_list[:N]\n",
        "\n",
        "# Extract titles and texts separately\n",
        "titles, text_data = zip(*sampled_data)"
      ],
      "metadata": {
        "collapsed": true,
        "id": "4LiOt4TN4y7p"
      },
      "execution_count": null,
      "outputs": []
    },
    {
      "cell_type": "code",
      "source": [
        "titles[0:50]"
      ],
      "metadata": {
        "id": "VZ8FllSm5gyI",
        "collapsed": true,
        "colab": {
          "base_uri": "https://localhost:8080/"
        },
        "outputId": "2980b7f8-0eab-479a-f67c-828a57ed363b"
      },
      "execution_count": null,
      "outputs": [
        {
          "output_type": "execute_result",
          "data": {
            "text/plain": [
              "('2AM',\n",
              " 'Military Occupational Specialty',\n",
              " 'Early world maps',\n",
              " 'John Landy',\n",
              " 'Renault Vel Satis',\n",
              " 'Hiram Johnson',\n",
              " 'English muffin',\n",
              " 'Roberto Di Matteo',\n",
              " 'Beauvais',\n",
              " 'Ningxia',\n",
              " 'Agos',\n",
              " 'Witherslack',\n",
              " 'Baku Metro',\n",
              " 'Emperor Seinei',\n",
              " 'Nature reserve',\n",
              " 'Punch-Out (disambiguation)',\n",
              " 'Carmine Falcone',\n",
              " 'Fumihito, Prince Akishino',\n",
              " 'Syrup',\n",
              " 'British Americans',\n",
              " 'Charles II of England',\n",
              " 'BREL',\n",
              " 'Seti I',\n",
              " 'Sekhar Basu',\n",
              " 'Wood ash',\n",
              " 'Unschooling',\n",
              " 'Brother Rat',\n",
              " 'Province of Matera',\n",
              " 'KLM',\n",
              " 'SMAP',\n",
              " 'XOR gate',\n",
              " 'Byker Grove',\n",
              " 'Protestant Reformation',\n",
              " 'Lucerne-Stadt (district)',\n",
              " 'Hideki Kirita',\n",
              " 'Bad Neuenahr-Ahrweiler',\n",
              " 'Russeifa',\n",
              " 'Pedro Pascal',\n",
              " 'Here Comes the Sun',\n",
              " 'Randy Jones (drummer)',\n",
              " 'Shōkyō',\n",
              " 'Saint-Sauveur-de-Montagut',\n",
              " 'Chitra Banerjee Divakaruni',\n",
              " 'Panjkora River',\n",
              " 'Sheffield Wednesday F.C.',\n",
              " 'Jun Kokubo',\n",
              " 'The Bernie Mac Show',\n",
              " 'Flag of Tennessee',\n",
              " 'Lorna Gray',\n",
              " 'Ulysses (novel)')"
            ]
          },
          "metadata": {},
          "execution_count": 91
        }
      ]
    },
    {
      "cell_type": "code",
      "source": [
        "\n",
        "nlp = spacy.load(\"en_core_web_sm\", disable=[\"ner\", \"parser\", \"tagger\",\"lemmatizer\"])  # Keep only the tokenizer\n",
        "\n",
        "\n",
        "\n",
        "def preprocess(text):\n",
        "    text = re.sub(r'\\s+', ' ', text)  # Remove excessive spaces\n",
        "    doc = nlp(text.lower())  # Tokenization\n",
        "    return [token.text for token in doc if token.is_alpha and len(token) > 1]  # Filter short/non-alphabetic tokens\n"
      ],
      "metadata": {
        "id": "K2Z8WtT82YYP"
      },
      "execution_count": null,
      "outputs": []
    },
    {
      "cell_type": "code",
      "source": [
        "\n",
        "\n",
        "from tqdm import tqdm\n",
        "\n",
        "# Apply preprocessing with progress bar\n",
        "sentences = [preprocess(article) for article in tqdm(text_data, desc=\"Processing articles\")]\n",
        "\n",
        "# Remove short sentences with progress bar\n",
        "sentences = [s for s in tqdm(sentences, desc=\"Filtering short sentences\") if len(s) > 3]\n",
        "\n",
        "\n"
      ],
      "metadata": {
        "colab": {
          "base_uri": "https://localhost:8080/"
        },
        "id": "3yyDeNub46c-",
        "outputId": "63285903-77dc-436f-e63d-8183cb3dafc7"
      },
      "execution_count": null,
      "outputs": [
        {
          "output_type": "stream",
          "name": "stderr",
          "text": [
            "Processing articles: 100%|██████████| 10000/10000 [02:58<00:00, 55.89it/s]\n",
            "Filtering short sentences: 100%|██████████| 10000/10000 [00:00<00:00, 1249941.59it/s]\n"
          ]
        }
      ]
    },
    {
      "cell_type": "code",
      "source": [
        "\n"
      ],
      "metadata": {
        "id": "T1vs-r43QZHg"
      },
      "execution_count": null,
      "outputs": []
    },
    {
      "cell_type": "code",
      "source": [
        "\n",
        "\n",
        "#train model\n",
        "\n",
        "model = Word2Vec(sentences, vector_size=50, window=5, min_count=3, workers=4, sg=0)#sg=1 is skipgram, sk=0 is bag of words"
      ],
      "metadata": {
        "id": "SNgwOGsh4CH4"
      },
      "execution_count": null,
      "outputs": []
    },
    {
      "cell_type": "code",
      "source": [
        "# prompt: find the length of the vocabulary of model\n",
        "\n",
        "print(len(model.wv.key_to_index))\n"
      ],
      "metadata": {
        "colab": {
          "base_uri": "https://localhost:8080/"
        },
        "id": "oYTu6GYE8IJN",
        "outputId": "bbb7d441-7be9-4afc-a2aa-0c926fae15b0"
      },
      "execution_count": null,
      "outputs": [
        {
          "output_type": "stream",
          "name": "stdout",
          "text": [
            "29393\n"
          ]
        }
      ]
    },
    {
      "cell_type": "code",
      "source": [
        "model.wv.most_similar(\"physics\", topn=10)\n"
      ],
      "metadata": {
        "colab": {
          "base_uri": "https://localhost:8080/"
        },
        "id": "bwRUM5sLE8v1",
        "outputId": "04742711-2ed4-49ed-9cc5-f1d76870cc0d"
      },
      "execution_count": null,
      "outputs": [
        {
          "output_type": "execute_result",
          "data": {
            "text/plain": [
              "[('chemistry', 0.9046871662139893),\n",
              " ('mathematics', 0.8294205665588379),\n",
              " ('medicine', 0.8285777568817139),\n",
              " ('physiology', 0.8062022924423218),\n",
              " ('learning', 0.8029208779335022),\n",
              " ('biology', 0.7996598482131958),\n",
              " ('visual', 0.7977861762046814),\n",
              " ('volume', 0.7970251441001892),\n",
              " ('management', 0.7967193126678467),\n",
              " ('decorations', 0.789868950843811)]"
            ]
          },
          "metadata": {},
          "execution_count": 118
        }
      ]
    },
    {
      "cell_type": "code",
      "source": [],
      "metadata": {
        "id": "0AtFNlDO77EY"
      },
      "execution_count": null,
      "outputs": []
    },
    {
      "cell_type": "code",
      "source": [
        "\n",
        "\n",
        "# Define word pairs that capture gender\n",
        "male_words = [\"he\", \"man\", \"king\", \"brother\", \"father\"]\n",
        "female_words = [\"she\", \"woman\", \"queen\", \"sister\", \"mother\"]\n",
        "\n",
        "# Compute the average difference vector (gender direction)\n",
        "gender_vector = np.mean([model.wv[m] - model.wv[f] for m, f in zip(male_words, female_words)], axis=0)\n",
        "\n",
        "# Find words that align with the gender dimension\n",
        "similar_to_male = model.wv.most_similar([gender_vector], topn=5)\n",
        "similar_to_female = model.wv.most_similar([-gender_vector], topn=5)\n",
        "\n",
        "# Print results in column format\n",
        "print(f\"{'Most Masculine Words':<20} {'Score':<10}    {'Most Feminine Words':<20} {'Score':<10}\")\n",
        "print(\"-\" * 60)\n",
        "for (male_word, male_score), (female_word, female_score) in zip(similar_to_male, similar_to_female):\n",
        "    print(f\"{male_word:<20} {male_score:<10.4f}    {female_word:<20} {female_score:<10.4f}\")\n"
      ],
      "metadata": {
        "colab": {
          "base_uri": "https://localhost:8080/"
        },
        "id": "IyFF3an64wRP",
        "outputId": "a17b2693-0e61-406e-c7b8-f651df4a8303"
      },
      "execution_count": null,
      "outputs": [
        {
          "output_type": "stream",
          "name": "stdout",
          "text": [
            "Most Masculine Words Score         Most Feminine Words  Score     \n",
            "------------------------------------------------------------\n",
            "king                 0.6193        nepeta               0.3205    \n",
            "henry                0.5661        broadcasted          0.3153    \n",
            "pope                 0.5438        antivirus            0.3060    \n",
            "congregation         0.5338        leaping              0.3020    \n",
            "iii                  0.5292        lifestyles           0.2939    \n"
          ]
        }
      ]
    },
    {
      "cell_type": "code",
      "source": [
        "stereotype_pairs = [('carpentry', 'sewing'),('physician', 'nurse'),('surgeon', 'nurse'),('doctor', 'nurse')]\n",
        "appropriate_pairs = [('man', 'woman'),('brother', 'sister'),('father', 'mother'),('he', 'she'),('him', 'her'),('boy', 'girl')]\n",
        "random_pairs = [('dog', 'cat'),('carpet','leg'),('hot','cold')]\n",
        "\n"
      ],
      "metadata": {
        "id": "gSpW7IadBEay"
      },
      "execution_count": null,
      "outputs": []
    },
    {
      "cell_type": "code",
      "source": [
        "import matplotlib.pyplot as plt\n",
        "from sklearn.metrics.pairwise import cosine_similarity\n",
        "\n",
        "\n",
        "def angle_between(v1, v2):\n",
        "  \"\"\"Calculates the angle between two vectors in degrees.\"\"\"\n",
        "  v1_u = v1 / np.linalg.norm(v1)\n",
        "  v2_u = v2 / np.linalg.norm(v2)\n",
        "  return np.degrees(np.arccos(np.clip(np.dot(v1_u, v2_u), -1.0, 1.0)))\n",
        "\n",
        "# Combine all pairs for processing\n",
        "all_pairs = stereotype_pairs + appropriate_pairs + random_pairs\n",
        "\n",
        "# Calculate the difference vectors\n",
        "# Use model.wv to access word vectors\n",
        "difference_vectors = {pair: model.wv[pair[0]] - model.wv[pair[1]] for pair in all_pairs if pair[0] in model.wv and pair[1] in model.wv}\n",
        "\n",
        "# Filter all_pairs to only include pairs present in the vocabulary\n",
        "all_pairs = [pair for pair in all_pairs if pair[0] in model.wv and pair[1] in model.wv]\n",
        "\n",
        "# Initialize an empty array to store angles\n",
        "angles = np.zeros((len(all_pairs), len(all_pairs)))\n",
        "\n",
        "# Calculate the angles between all pairs of difference vectors\n",
        "for i, pair1 in enumerate(all_pairs):\n",
        "    for j, pair2 in enumerate(all_pairs):\n",
        "        if i == j:\n",
        "            angles[i, j] = 0  # Angle between a vector and itself is 0 degrees\n",
        "        else:\n",
        "            angle = angle_between(difference_vectors[pair1], difference_vectors[pair2])\n",
        "            angles[i, j] = angle\n",
        "\n",
        "# Labels for the heat map\n",
        "pair_labels = [f'{pair[0]}-{pair[1]}' for pair in all_pairs]\n",
        "\n",
        "# Plotting the heat map with labels\n",
        "fig, ax = plt.subplots(figsize=(10, 10))\n",
        "heatmap = ax.imshow(angles, cmap='hot', interpolation='nearest')\n",
        "\n",
        "# Add color bar with adjusted aspect\n",
        "cbar = fig.colorbar(heatmap, aspect=20)\n",
        "\n",
        "# Add labels\n",
        "ax.set_xticks(np.arange(len(pair_labels)))\n",
        "ax.set_yticks(np.arange(len(pair_labels)))\n",
        "ax.set_xticklabels(pair_labels, rotation=90)\n",
        "ax.set_yticklabels(pair_labels)\n",
        "\n",
        "ax.set_title('Angle between difference vectors of word pairs')\n",
        "ax.set_xlabel('Word Pairs')\n",
        "ax.set_ylabel('Word Pairs')\n",
        "\n",
        "# Improving layout for better readability\n",
        "plt.tight_layout()\n",
        "\n",
        "plt.show()"
      ],
      "metadata": {
        "colab": {
          "base_uri": "https://localhost:8080/",
          "height": 961
        },
        "id": "-qyyZQXzyU0O",
        "outputId": "ced8b4e0-f4da-4b3f-fadd-17baaff535b9"
      },
      "execution_count": null,
      "outputs": [
        {
          "output_type": "display_data",
          "data": {
            "text/plain": [
              "<Figure size 1000x1000 with 2 Axes>"
            ],
            "image/png": "[encoded data removed]"
          },
          "metadata": {}
        }
      ]
    }
  ]
}